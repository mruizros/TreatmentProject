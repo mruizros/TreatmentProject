{
 "cells": [
  {
   "cell_type": "markdown",
   "metadata": {},
   "source": [
    "# Clustering\n"
   ]
  },
  {
   "cell_type": "markdown",
   "metadata": {},
   "source": [
    "The goal of this notebook is to cluster the human samples according to their genetic response"
   ]
  },
  {
   "cell_type": "code",
   "execution_count": 49,
   "metadata": {},
   "outputs": [],
   "source": [
    "%matplotlib inline\n",
    "import matplotlib.pyplot as plt\n",
    "import seaborn as sns; sns.set()\n",
    "import numpy as np\n",
    "import pandas as pd\n",
    "from sklearn.datasets.samples_generator import make_blobs\n",
    "# sklearn includes kmeans algorithm\n",
    "from sklearn.cluster import KMeans\n",
    "from sklearn.decomposition import PCA\n",
    "import sklearn\n",
    "import matplotlib.pyplot as plt\n",
    "import pandas as pd\n",
    "import seaborn as sns\n",
    "from sklearn.mixture import GaussianMixture as GMM"
   ]
  },
  {
   "cell_type": "code",
   "execution_count": 50,
   "metadata": {},
   "outputs": [
    {
     "data": {
      "text/html": [
       "<div>\n",
       "<style scoped>\n",
       "    .dataframe tbody tr th:only-of-type {\n",
       "        vertical-align: middle;\n",
       "    }\n",
       "\n",
       "    .dataframe tbody tr th {\n",
       "        vertical-align: top;\n",
       "    }\n",
       "\n",
       "    .dataframe thead th {\n",
       "        text-align: right;\n",
       "    }\n",
       "</style>\n",
       "<table border=\"1\" class=\"dataframe\">\n",
       "  <thead>\n",
       "    <tr style=\"text-align: right;\">\n",
       "      <th></th>\n",
       "      <th>0</th>\n",
       "      <th>1</th>\n",
       "      <th>2</th>\n",
       "      <th>3</th>\n",
       "      <th>4</th>\n",
       "      <th>5</th>\n",
       "      <th>6</th>\n",
       "      <th>7</th>\n",
       "      <th>8</th>\n",
       "      <th>9</th>\n",
       "      <th>...</th>\n",
       "      <th>44</th>\n",
       "      <th>45</th>\n",
       "      <th>46</th>\n",
       "      <th>47</th>\n",
       "      <th>48</th>\n",
       "      <th>49</th>\n",
       "      <th>50</th>\n",
       "      <th>51</th>\n",
       "      <th>52</th>\n",
       "      <th>53</th>\n",
       "    </tr>\n",
       "  </thead>\n",
       "  <tbody>\n",
       "    <tr>\n",
       "      <td>0</td>\n",
       "      <td>NaN</td>\n",
       "      <td>Vol</td>\n",
       "      <td>Label</td>\n",
       "      <td>ENSG00000113328</td>\n",
       "      <td>ENSG00000097046</td>\n",
       "      <td>ENSG00000185324</td>\n",
       "      <td>ENSG00000135446</td>\n",
       "      <td>ENSG00000105810</td>\n",
       "      <td>ENSG00000111276</td>\n",
       "      <td>ENSG00000112242</td>\n",
       "      <td>...</td>\n",
       "      <td>ENSG00000033170</td>\n",
       "      <td>ENSG00000141349</td>\n",
       "      <td>ENSG00000164574</td>\n",
       "      <td>ENSG00000109586</td>\n",
       "      <td>ENSG00000134333</td>\n",
       "      <td>ENSG00000111716</td>\n",
       "      <td>ENSG00000135503</td>\n",
       "      <td>ENSG00000123612</td>\n",
       "      <td>ENSG00000114739</td>\n",
       "      <td>ENSG00000092969</td>\n",
       "    </tr>\n",
       "    <tr>\n",
       "      <td>1</td>\n",
       "      <td>S18ID0179</td>\n",
       "      <td>1A</td>\n",
       "      <td>1</td>\n",
       "      <td>101</td>\n",
       "      <td>12</td>\n",
       "      <td>47</td>\n",
       "      <td>24</td>\n",
       "      <td>264</td>\n",
       "      <td>426</td>\n",
       "      <td>97</td>\n",
       "      <td>...</td>\n",
       "      <td>48</td>\n",
       "      <td>7</td>\n",
       "      <td>165</td>\n",
       "      <td>95</td>\n",
       "      <td>159</td>\n",
       "      <td>208</td>\n",
       "      <td>45</td>\n",
       "      <td>5</td>\n",
       "      <td>7</td>\n",
       "      <td>0</td>\n",
       "    </tr>\n",
       "    <tr>\n",
       "      <td>2</td>\n",
       "      <td>S18ID0189</td>\n",
       "      <td>11A</td>\n",
       "      <td>1</td>\n",
       "      <td>230</td>\n",
       "      <td>47</td>\n",
       "      <td>154</td>\n",
       "      <td>62</td>\n",
       "      <td>793</td>\n",
       "      <td>874</td>\n",
       "      <td>142</td>\n",
       "      <td>...</td>\n",
       "      <td>225</td>\n",
       "      <td>24</td>\n",
       "      <td>382</td>\n",
       "      <td>259</td>\n",
       "      <td>464</td>\n",
       "      <td>541</td>\n",
       "      <td>139</td>\n",
       "      <td>40</td>\n",
       "      <td>38</td>\n",
       "      <td>0</td>\n",
       "    </tr>\n",
       "    <tr>\n",
       "      <td>3</td>\n",
       "      <td>S18ID0198</td>\n",
       "      <td>1B</td>\n",
       "      <td>1</td>\n",
       "      <td>306</td>\n",
       "      <td>58</td>\n",
       "      <td>125</td>\n",
       "      <td>31</td>\n",
       "      <td>329</td>\n",
       "      <td>916</td>\n",
       "      <td>147</td>\n",
       "      <td>...</td>\n",
       "      <td>136</td>\n",
       "      <td>16</td>\n",
       "      <td>275</td>\n",
       "      <td>202</td>\n",
       "      <td>458</td>\n",
       "      <td>653</td>\n",
       "      <td>114</td>\n",
       "      <td>19</td>\n",
       "      <td>55</td>\n",
       "      <td>3</td>\n",
       "    </tr>\n",
       "    <tr>\n",
       "      <td>4</td>\n",
       "      <td>S18ID0208</td>\n",
       "      <td>11B</td>\n",
       "      <td>1</td>\n",
       "      <td>140</td>\n",
       "      <td>13</td>\n",
       "      <td>46</td>\n",
       "      <td>30</td>\n",
       "      <td>186</td>\n",
       "      <td>459</td>\n",
       "      <td>90</td>\n",
       "      <td>...</td>\n",
       "      <td>101</td>\n",
       "      <td>17</td>\n",
       "      <td>169</td>\n",
       "      <td>121</td>\n",
       "      <td>200</td>\n",
       "      <td>257</td>\n",
       "      <td>80</td>\n",
       "      <td>13</td>\n",
       "      <td>5</td>\n",
       "      <td>0</td>\n",
       "    </tr>\n",
       "  </tbody>\n",
       "</table>\n",
       "<p>5 rows × 54 columns</p>\n",
       "</div>"
      ],
      "text/plain": [
       "          0    1      2                3                4                5   \\\n",
       "0        NaN  Vol  Label  ENSG00000113328  ENSG00000097046  ENSG00000185324   \n",
       "1  S18ID0179   1A      1              101               12               47   \n",
       "2  S18ID0189  11A      1              230               47              154   \n",
       "3  S18ID0198   1B      1              306               58              125   \n",
       "4  S18ID0208  11B      1              140               13               46   \n",
       "\n",
       "                6                7                8                9   ...  \\\n",
       "0  ENSG00000135446  ENSG00000105810  ENSG00000111276  ENSG00000112242  ...   \n",
       "1               24              264              426               97  ...   \n",
       "2               62              793              874              142  ...   \n",
       "3               31              329              916              147  ...   \n",
       "4               30              186              459               90  ...   \n",
       "\n",
       "                44               45               46               47  \\\n",
       "0  ENSG00000033170  ENSG00000141349  ENSG00000164574  ENSG00000109586   \n",
       "1               48                7              165               95   \n",
       "2              225               24              382              259   \n",
       "3              136               16              275              202   \n",
       "4              101               17              169              121   \n",
       "\n",
       "                48               49               50               51  \\\n",
       "0  ENSG00000134333  ENSG00000111716  ENSG00000135503  ENSG00000123612   \n",
       "1              159              208               45                5   \n",
       "2              464              541              139               40   \n",
       "3              458              653              114               19   \n",
       "4              200              257               80               13   \n",
       "\n",
       "                52               53  \n",
       "0  ENSG00000114739  ENSG00000092969  \n",
       "1                7                0  \n",
       "2               38                0  \n",
       "3               55                3  \n",
       "4                5                0  \n",
       "\n",
       "[5 rows x 54 columns]"
      ]
     },
     "execution_count": 50,
     "metadata": {},
     "output_type": "execute_result"
    }
   ],
   "source": [
    "#read the wdbc.csv\n",
    "wdbc = pd.read_csv('./Progress.csv',header=None, sep=';')\n",
    "wdbc.head(5)"
   ]
  },
  {
   "cell_type": "code",
   "execution_count": 51,
   "metadata": {},
   "outputs": [
    {
     "data": {
      "text/plain": [
       "(49, 54)"
      ]
     },
     "execution_count": 51,
     "metadata": {},
     "output_type": "execute_result"
    }
   ],
   "source": [
    "wdbc.shape"
   ]
  },
  {
   "cell_type": "markdown",
   "metadata": {},
   "source": [
    "<font color='black'>Perform a PCA analysis over the data\n",
    "\n",
    "</font> "
   ]
  },
  {
   "cell_type": "code",
   "execution_count": 54,
   "metadata": {},
   "outputs": [
    {
     "name": "stdout",
     "output_type": "stream",
     "text": [
      "Number of components: 15     Variance: 0.9905651465633233\n"
     ]
    }
   ],
   "source": [
    "import pandas as pd\n",
    "# convert the data to type float and drop the label col(B/M)\n",
    "df_wdbc = wdbc.values[1:, 3:].astype(np.float)\n",
    "\n",
    "# standardize the data before performing PCA\n",
    "df_wdbc_std = sklearn.preprocessing.StandardScaler().fit_transform(df_wdbc)\n",
    "\n",
    "#Get the number of components in the data\n",
    "n_components=df_wdbc_std.shape[0]\n",
    "wdbc_pca = PCA(n_components=n_components)\n",
    "\n",
    "# project the data into this new PCA space\n",
    "wdbc_pca.fit(df_wdbc_std )\n",
    "df_wdbc_pca = wdbc_pca.transform(df_wdbc_std)\n",
    "\n",
    "#To get the nubmer of components required to maintain 99% variance\n",
    "#store the variance of all the components in the object var\n",
    "var = np.cumsum(wdbc_pca.explained_variance_ratio_)\n",
    "\n",
    "#initialize the counter \n",
    "counter = 1\n",
    "for item in var:\n",
    "    if item <= 0.99:\n",
    "        counter = counter + 1\n",
    "    else:\n",
    "        break\n",
    "        \n",
    "print(\"Number of components:\", counter, \"    Variance:\", var[counter-1])"
   ]
  },
  {
   "cell_type": "code",
   "execution_count": 55,
   "metadata": {},
   "outputs": [],
   "source": [
    "df_wdbc = wdbc.values[1:, 3:].astype(np.float)"
   ]
  },
  {
   "cell_type": "code",
   "execution_count": 56,
   "metadata": {},
   "outputs": [],
   "source": [
    "# standardize the data before performing PCA\n",
    "df_wdbc_std = sklearn.preprocessing.StandardScaler().fit_transform(df_wdbc)\n",
    "\n",
    "#Get the number of components in the data\n",
    "n_components=df_wdbc_std.shape[1]\n",
    "wdbc_pca = PCA(n_components=n_components)"
   ]
  },
  {
   "cell_type": "code",
   "execution_count": 57,
   "metadata": {},
   "outputs": [
    {
     "data": {
      "text/plain": [
       "48"
      ]
     },
     "execution_count": 57,
     "metadata": {},
     "output_type": "execute_result"
    }
   ],
   "source": [
    "df_wdbc_std.shape[0]\n"
   ]
  },
  {
   "cell_type": "markdown",
   "metadata": {},
   "source": [
    "<font color='black'>Project the data into the PC space\n",
    "\n",
    "</font> \n",
    "\n"
   ]
  },
  {
   "cell_type": "code",
   "execution_count": 58,
   "metadata": {},
   "outputs": [
    {
     "data": {
      "image/png": "[encoded data removed]",
      "text/plain": [
       "<Figure size 432x288 with 1 Axes>"
      ]
     },
     "metadata": {},
     "output_type": "display_data"
    }
   ],
   "source": [
    "# define the number of components of the PCA domain\n",
    "n_components=counter\n",
    "#For all the data\n",
    "#n_components=df_wdbc_std.shape[1]\n",
    "wdbc_pca = PCA(n_components=n_components)\n",
    "\n",
    "# project the data into this new PCA space\n",
    "wdbc_pca.fit(df_wdbc_std )\n",
    "df_wdbc_pca = wdbc_pca.transform(df_wdbc_std)\n",
    "\n",
    "# convert dataframe to array\n",
    "wdbc_data=np.array(df_wdbc_pca)\n",
    "#print(wdbc_data)\n",
    "\n",
    "# plot first 17 (from the counter value) PC without labels\n",
    "plt.scatter(wdbc_data[:, 0], wdbc_data[:, 1], s=50, cmap='viridis');"
   ]
  },
  {
   "cell_type": "markdown",
   "metadata": {},
   "source": [
    "<font color='black'>Apply both k-means and GMM over the projected data; \n",
    "\n",
    "</font> \n"
   ]
  },
  {
   "cell_type": "code",
   "execution_count": 74,
   "metadata": {},
   "outputs": [
    {
     "name": "stdout",
     "output_type": "stream",
     "text": [
      "The center corrdinates for the green cluster are X= 6.463480964109299 Y= -0.0957015519061975\n",
      "The center corrdinates for the brown cluster are X= -5.946402486980555 Y= 0.08804542775370183\n"
     ]
    },
    {
     "data": {
      "image/png": "[encoded data removed]",
      "text/plain": [
       "<Figure size 432x288 with 1 Axes>"
      ]
     },
     "metadata": {},
     "output_type": "display_data"
    }
   ],
   "source": [
    "# perform k-means clustering\n",
    "# 2 clusters are selected as there are 2 labels in our data\n",
    "kmeans = KMeans(n_clusters=2)\n",
    "\n",
    "# estimate model parameters with the EM algorithm \n",
    "kmeans.fit(wdbc_data)\n",
    "\n",
    "# predict the closest cluster each sample in wdbc_data belongs to\n",
    "y_kmeans = kmeans.predict(wdbc_data)\n",
    "\n",
    "# plot the original data and the predicted clusters\n",
    "plt.scatter(wdbc_data[:, 0], wdbc_data[:, 1], c=y_kmeans, s=50, cmap='Dark2')\n",
    "\n",
    "# plot the cluster centers\n",
    "centers = kmeans.cluster_centers_\n",
    "plt.scatter(centers[:, 0], centers[:, 1], c='red', s=20, alpha=0.5);\n",
    "\n",
    "#print(centers[:, 0], centers[:, 1])\n",
    "print(\"The center corrdinates for the green cluster are X=\",centers[:, 0][0],\"Y=\",centers[:, 1][0])\n",
    "print(\"The center corrdinates for the brown cluster are X=\",centers[:, 0][1],\"Y=\",centers[:, 1][1])"
   ]
  },
  {
   "cell_type": "code",
   "execution_count": 75,
   "metadata": {},
   "outputs": [
    {
     "data": {
      "text/plain": [
       "array([1, 1, 1, 1, 1, 1, 1, 1, 0, 0, 1, 0, 1, 0, 0, 1, 0, 0, 1, 1, 1, 1,\n",
       "       0, 0, 0, 0, 1, 1, 1, 0, 0, 0, 0, 0, 1, 1, 1, 0, 0, 0, 1, 1, 1, 1,\n",
       "       0, 0, 0, 0])"
      ]
     },
     "execution_count": 75,
     "metadata": {},
     "output_type": "execute_result"
    }
   ],
   "source": [
    "y_kmeans"
   ]
  },
  {
   "cell_type": "code",
   "execution_count": 61,
   "metadata": {},
   "outputs": [
    {
     "data": {
      "image/png": "[encoded data removed]",
      "text/plain": [
       "<Figure size 432x288 with 1 Axes>"
      ]
     },
     "metadata": {},
     "output_type": "display_data"
    }
   ],
   "source": [
    "# perform GMM for clustering\n",
    "# two gaussian functions as we have two original data labels\n",
    "gmm = GMM(n_components=2).fit(wdbc_data)\n",
    "\n",
    "# predict the labels for the data samples in X using trained model\n",
    "labels = gmm.predict(wdbc_data)\n",
    "plt.scatter(wdbc_data[:, 0], wdbc_data[:, 1], c=labels, s=40, cmap='Dark2');"
   ]
  },
  {
   "cell_type": "code",
   "execution_count": 62,
   "metadata": {},
   "outputs": [
    {
     "data": {
      "text/plain": [
       "array([0, 0, 0, 0, 0, 0, 0, 0, 1, 1, 0, 1, 0, 1, 1, 0, 1, 1, 0, 0, 0, 0,\n",
       "       1, 1, 1, 1, 0, 0, 0, 1, 1, 1, 1, 1, 0, 0, 0, 1, 1, 1, 0, 0, 0, 0,\n",
       "       1, 1, 1, 1], dtype=int64)"
      ]
     },
     "execution_count": 62,
     "metadata": {},
     "output_type": "execute_result"
    }
   ],
   "source": [
    "labels"
   ]
  },
  {
   "cell_type": "code",
   "execution_count": 48,
   "metadata": {},
   "outputs": [
    {
     "data": {
      "text/plain": [
       "array([-4.69626347e-02,  8.76330029e-02, -3.82920228e-02, -2.35380011e-02,\n",
       "        4.63952815e-02,  4.44397109e-02, -8.44305268e-02, -8.99148955e-02,\n",
       "       -2.45168273e+00, -2.39732281e+00, -1.93270425e-02, -5.29628354e-01,\n",
       "        1.24279952e-02, -1.34752914e+00, -1.09055253e-01,  1.13849831e+00,\n",
       "       -6.34268064e-01, -2.01465692e+00,  2.02155863e-02, -1.78009892e-01,\n",
       "       -3.29429754e-02, -3.27099900e-01,  7.13220622e-01,  4.44217359e-01,\n",
       "        3.94193554e-01,  3.43019434e-01, -1.67870907e-02, -2.23444398e-02,\n",
       "       -1.41539107e-04, -1.66393374e+00,  8.37992810e-01,  3.05301419e-01,\n",
       "       -1.70944983e+00, -2.17137230e+00,  5.42474791e-02, -6.96953706e-02,\n",
       "       -4.18730489e-02, -1.11810789e+00, -9.00001274e-01,  7.84706713e-01,\n",
       "        1.23180072e-01, -2.52329000e-01,  9.80411316e-01,  4.76575895e-01,\n",
       "        1.26032100e+00,  4.72628673e+00,  3.37179155e+00,  2.12562086e+00])"
      ]
     },
     "execution_count": 48,
     "metadata": {},
     "output_type": "execute_result"
    }
   ],
   "source": [
    "wdbc_data[:,1]"
   ]
  },
  {
   "cell_type": "code",
   "execution_count": 47,
   "metadata": {},
   "outputs": [
    {
     "data": {
      "text/plain": [
       "(48, 49)"
      ]
     },
     "execution_count": 47,
     "metadata": {},
     "output_type": "execute_result"
    }
   ],
   "source": [
    "df_wdbc_std.shape"
   ]
  }
 ],
 "metadata": {
  "kernelspec": {
   "display_name": "anaconda-2022.05-py39",
   "language": "python",
   "name": "conda-env-anaconda-2022.05-py39-py"
  },
  "language_info": {
   "codemirror_mode": {
    "name": "ipython",
    "version": 3
   },
   "file_extension": ".py",
   "mimetype": "text/x-python",
   "name": "python",
   "nbconvert_exporter": "python",
   "pygments_lexer": "ipython3",
   "version": "3.9.12"
  },
  "widgets": {
   "state": {
    "cb6b8a9c1a2b43088126905b03d3e888": {
     "views": [
      {
       "cell_index": 13
      }
     ]
    }
   },
   "version": "1.2.0"
  }
 },
 "nbformat": 4,
 "nbformat_minor": 4
}
