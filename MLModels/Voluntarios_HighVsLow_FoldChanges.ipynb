{
 "cells": [
  {
   "cell_type": "markdown",
   "metadata": {},
   "source": [
    "<h1>Feature Selection Voluntarios Treatment</h1>\n",
    "\n",
    "<h2>Monica Ruiz Rosario</h2>\n"
   ]
  },
  {
   "cell_type": "markdown",
   "metadata": {},
   "source": [
    "<H4> Features selection of human samples grouped by volunteer number"
   ]
  },
  {
   "cell_type": "code",
   "execution_count": 1,
   "metadata": {},
   "outputs": [],
   "source": [
    "from sklearn.model_selection import RepeatedKFold\n",
    "from sklearn.neighbors import KNeighborsClassifier\n",
    "from sklearn import preprocessing\n",
    "from sklearn.model_selection import RepeatedStratifiedKFold, GridSearchCV, train_test_split\n",
    "from sklearn.pipeline import Pipeline\n",
    "from sklearn.metrics import accuracy_score, make_scorer, confusion_matrix\n",
    "from sklearn.feature_selection import SelectKBest, f_classif, SelectFromModel\n",
    "from sklearn.ensemble import RandomForestClassifier\n",
    "import matplotlib.pyplot as plt\n",
    "import matplotlib.lines as mlines\n",
    "import numpy as np\n",
    "import pandas as pd\n",
    "import urllib.request as urllib\n",
    "import sys"
   ]
  },
  {
   "cell_type": "markdown",
   "metadata": {},
   "source": [
    "<H4>Loading the data from the CSV files</H4>"
   ]
  },
  {
   "cell_type": "code",
   "execution_count": 70,
   "metadata": {},
   "outputs": [
    {
     "data": {
      "text/plain": [
       "(8, 807)"
      ]
     },
     "execution_count": 70,
     "metadata": {},
     "output_type": "execute_result"
    }
   ],
   "source": [
    "data_hum = pd.read_csv('DifferentialGenesFoldChageByVolunteer1.csv', sep=';')\n",
    "lista = [ 0, 0 , 0, 1, 1, 0, 0, 1 ]\n",
    "data_hum['Lable'] = pd.Series(lista, index=data_hum.index)\n",
    "X = data_hum.values[ 0:, 1:-1].astype(np.float)\n",
    "y = (data_hum.values[ 0:, -1 ] == 0).astype(np.int)\n",
    "features = np.array(list(data_hum)[:-1])\n",
    "data_hum.shape"
   ]
  },
  {
   "cell_type": "code",
   "execution_count": 7,
   "metadata": {},
   "outputs": [
    {
     "data": {
      "text/plain": [
       "array([1, 1, 1, 0, 0, 1, 1, 0])"
      ]
     },
     "execution_count": 7,
     "metadata": {},
     "output_type": "execute_result"
    }
   ],
   "source": [
    "(data_hum.values[ 0:, -1 ] == 0).astype(np.int)"
   ]
  },
  {
   "cell_type": "code",
   "execution_count": 6,
   "metadata": {},
   "outputs": [
    {
     "data": {
      "text/html": [
       "<div>\n",
       "<style scoped>\n",
       "    .dataframe tbody tr th:only-of-type {\n",
       "        vertical-align: middle;\n",
       "    }\n",
       "\n",
       "    .dataframe tbody tr th {\n",
       "        vertical-align: top;\n",
       "    }\n",
       "\n",
       "    .dataframe thead th {\n",
       "        text-align: right;\n",
       "    }\n",
       "</style>\n",
       "<table border=\"1\" class=\"dataframe\">\n",
       "  <thead>\n",
       "    <tr style=\"text-align: right;\">\n",
       "      <th></th>\n",
       "      <th>GeneId</th>\n",
       "      <th>ENSG00000250565</th>\n",
       "      <th>ENSG00000184702</th>\n",
       "      <th>ENSG00000163464</th>\n",
       "      <th>ENSG00000175556</th>\n",
       "      <th>ENSG00000197771</th>\n",
       "      <th>ENSG00000034693</th>\n",
       "      <th>ENSG00000135919</th>\n",
       "      <th>ENSG00000083635</th>\n",
       "      <th>ENSG00000249087</th>\n",
       "      <th>...</th>\n",
       "      <th>ENSG00000198056</th>\n",
       "      <th>ENSG00000182580</th>\n",
       "      <th>ENSG00000089220</th>\n",
       "      <th>ENSG00000268861</th>\n",
       "      <th>ENSG00000130940</th>\n",
       "      <th>ENSG00000114023</th>\n",
       "      <th>ENSG00000128739</th>\n",
       "      <th>ENSG00000099364</th>\n",
       "      <th>ENSG00000153885</th>\n",
       "      <th>Lable</th>\n",
       "    </tr>\n",
       "  </thead>\n",
       "  <tbody>\n",
       "    <tr>\n",
       "      <td>0</td>\n",
       "      <td>Vol22</td>\n",
       "      <td>0.037334</td>\n",
       "      <td>1.764498</td>\n",
       "      <td>-0.466725</td>\n",
       "      <td>0.199044</td>\n",
       "      <td>-0.538142</td>\n",
       "      <td>0.178594</td>\n",
       "      <td>-0.433383</td>\n",
       "      <td>-0.144659</td>\n",
       "      <td>0.336135</td>\n",
       "      <td>...</td>\n",
       "      <td>0.046372</td>\n",
       "      <td>1.018643</td>\n",
       "      <td>-0.136003</td>\n",
       "      <td>-0.670971</td>\n",
       "      <td>0.144258</td>\n",
       "      <td>0.474156</td>\n",
       "      <td>0.131337</td>\n",
       "      <td>0.292820</td>\n",
       "      <td>0.121945</td>\n",
       "      <td>0</td>\n",
       "    </tr>\n",
       "    <tr>\n",
       "      <td>1</td>\n",
       "      <td>Vol21</td>\n",
       "      <td>-0.355682</td>\n",
       "      <td>0.460340</td>\n",
       "      <td>0.259717</td>\n",
       "      <td>0.219379</td>\n",
       "      <td>-0.314100</td>\n",
       "      <td>-0.193641</td>\n",
       "      <td>0.261503</td>\n",
       "      <td>0.021603</td>\n",
       "      <td>-0.586878</td>\n",
       "      <td>...</td>\n",
       "      <td>0.044727</td>\n",
       "      <td>1.041699</td>\n",
       "      <td>-0.280669</td>\n",
       "      <td>-0.241121</td>\n",
       "      <td>0.099434</td>\n",
       "      <td>0.309017</td>\n",
       "      <td>0.140579</td>\n",
       "      <td>0.205185</td>\n",
       "      <td>0.077161</td>\n",
       "      <td>0</td>\n",
       "    </tr>\n",
       "    <tr>\n",
       "      <td>2</td>\n",
       "      <td>Vol20</td>\n",
       "      <td>-0.123347</td>\n",
       "      <td>0.833561</td>\n",
       "      <td>-0.141047</td>\n",
       "      <td>0.035530</td>\n",
       "      <td>-0.447935</td>\n",
       "      <td>-0.112696</td>\n",
       "      <td>-0.168273</td>\n",
       "      <td>-0.448357</td>\n",
       "      <td>-0.006353</td>\n",
       "      <td>...</td>\n",
       "      <td>0.093353</td>\n",
       "      <td>2.267085</td>\n",
       "      <td>-0.240777</td>\n",
       "      <td>0.230487</td>\n",
       "      <td>0.967090</td>\n",
       "      <td>0.659526</td>\n",
       "      <td>-0.165646</td>\n",
       "      <td>0.705663</td>\n",
       "      <td>0.426226</td>\n",
       "      <td>0</td>\n",
       "    </tr>\n",
       "    <tr>\n",
       "      <td>3</td>\n",
       "      <td>Vol19</td>\n",
       "      <td>4.279154</td>\n",
       "      <td>0.786694</td>\n",
       "      <td>0.754017</td>\n",
       "      <td>2.336969</td>\n",
       "      <td>-0.663220</td>\n",
       "      <td>4.244540</td>\n",
       "      <td>-5.056953</td>\n",
       "      <td>4.734770</td>\n",
       "      <td>4.597898</td>\n",
       "      <td>...</td>\n",
       "      <td>4.037009</td>\n",
       "      <td>-2.684412</td>\n",
       "      <td>-0.761704</td>\n",
       "      <td>16.436110</td>\n",
       "      <td>4.991261</td>\n",
       "      <td>1.837799</td>\n",
       "      <td>-0.139316</td>\n",
       "      <td>4.933442</td>\n",
       "      <td>-0.065647</td>\n",
       "      <td>1</td>\n",
       "    </tr>\n",
       "    <tr>\n",
       "      <td>4</td>\n",
       "      <td>Vol16</td>\n",
       "      <td>1.749709</td>\n",
       "      <td>0.212005</td>\n",
       "      <td>0.447021</td>\n",
       "      <td>1.765351</td>\n",
       "      <td>0.371227</td>\n",
       "      <td>-1.669864</td>\n",
       "      <td>0.009994</td>\n",
       "      <td>-3.855000</td>\n",
       "      <td>-2.393126</td>\n",
       "      <td>...</td>\n",
       "      <td>2.891147</td>\n",
       "      <td>4.342871</td>\n",
       "      <td>-1.362929</td>\n",
       "      <td>-0.118389</td>\n",
       "      <td>0.260513</td>\n",
       "      <td>5.621881</td>\n",
       "      <td>-0.431263</td>\n",
       "      <td>0.429772</td>\n",
       "      <td>-0.244512</td>\n",
       "      <td>1</td>\n",
       "    </tr>\n",
       "    <tr>\n",
       "      <td>5</td>\n",
       "      <td>Vol15</td>\n",
       "      <td>-0.727112</td>\n",
       "      <td>1.627937</td>\n",
       "      <td>0.290856</td>\n",
       "      <td>0.027966</td>\n",
       "      <td>-0.375603</td>\n",
       "      <td>-0.747936</td>\n",
       "      <td>0.179503</td>\n",
       "      <td>0.135940</td>\n",
       "      <td>-0.016995</td>\n",
       "      <td>...</td>\n",
       "      <td>-0.312071</td>\n",
       "      <td>2.199381</td>\n",
       "      <td>-0.042038</td>\n",
       "      <td>0.169723</td>\n",
       "      <td>0.448860</td>\n",
       "      <td>0.181668</td>\n",
       "      <td>0.239301</td>\n",
       "      <td>0.155608</td>\n",
       "      <td>-0.116274</td>\n",
       "      <td>0</td>\n",
       "    </tr>\n",
       "    <tr>\n",
       "      <td>6</td>\n",
       "      <td>Vol13</td>\n",
       "      <td>-0.318805</td>\n",
       "      <td>1.384092</td>\n",
       "      <td>0.572114</td>\n",
       "      <td>0.315739</td>\n",
       "      <td>0.127633</td>\n",
       "      <td>-0.163911</td>\n",
       "      <td>-0.192469</td>\n",
       "      <td>0.084964</td>\n",
       "      <td>0.622811</td>\n",
       "      <td>...</td>\n",
       "      <td>-0.005404</td>\n",
       "      <td>2.223937</td>\n",
       "      <td>-0.056434</td>\n",
       "      <td>0.070000</td>\n",
       "      <td>-0.119804</td>\n",
       "      <td>0.706161</td>\n",
       "      <td>0.028982</td>\n",
       "      <td>0.241600</td>\n",
       "      <td>-0.193759</td>\n",
       "      <td>0</td>\n",
       "    </tr>\n",
       "    <tr>\n",
       "      <td>7</td>\n",
       "      <td>Vol11</td>\n",
       "      <td>-0.160961</td>\n",
       "      <td>0.844908</td>\n",
       "      <td>1.273998</td>\n",
       "      <td>-0.854120</td>\n",
       "      <td>-0.135651</td>\n",
       "      <td>-0.508931</td>\n",
       "      <td>-5.317703</td>\n",
       "      <td>-0.596327</td>\n",
       "      <td>1.255474</td>\n",
       "      <td>...</td>\n",
       "      <td>-0.132780</td>\n",
       "      <td>1.673298</td>\n",
       "      <td>-0.394335</td>\n",
       "      <td>-0.424241</td>\n",
       "      <td>0.699718</td>\n",
       "      <td>0.325061</td>\n",
       "      <td>0.207466</td>\n",
       "      <td>2.128387</td>\n",
       "      <td>-0.300507</td>\n",
       "      <td>1</td>\n",
       "    </tr>\n",
       "  </tbody>\n",
       "</table>\n",
       "<p>8 rows × 807 columns</p>\n",
       "</div>"
      ],
      "text/plain": [
       "  GeneId  ENSG00000250565  ENSG00000184702  ENSG00000163464  ENSG00000175556  \\\n",
       "0  Vol22         0.037334         1.764498        -0.466725         0.199044   \n",
       "1  Vol21        -0.355682         0.460340         0.259717         0.219379   \n",
       "2  Vol20        -0.123347         0.833561        -0.141047         0.035530   \n",
       "3  Vol19         4.279154         0.786694         0.754017         2.336969   \n",
       "4  Vol16         1.749709         0.212005         0.447021         1.765351   \n",
       "5  Vol15        -0.727112         1.627937         0.290856         0.027966   \n",
       "6  Vol13        -0.318805         1.384092         0.572114         0.315739   \n",
       "7  Vol11        -0.160961         0.844908         1.273998        -0.854120   \n",
       "\n",
       "   ENSG00000197771  ENSG00000034693  ENSG00000135919  ENSG00000083635  \\\n",
       "0        -0.538142         0.178594        -0.433383        -0.144659   \n",
       "1        -0.314100        -0.193641         0.261503         0.021603   \n",
       "2        -0.447935        -0.112696        -0.168273        -0.448357   \n",
       "3        -0.663220         4.244540        -5.056953         4.734770   \n",
       "4         0.371227        -1.669864         0.009994        -3.855000   \n",
       "5        -0.375603        -0.747936         0.179503         0.135940   \n",
       "6         0.127633        -0.163911        -0.192469         0.084964   \n",
       "7        -0.135651        -0.508931        -5.317703        -0.596327   \n",
       "\n",
       "   ENSG00000249087  ...  ENSG00000198056  ENSG00000182580  ENSG00000089220  \\\n",
       "0         0.336135  ...         0.046372         1.018643        -0.136003   \n",
       "1        -0.586878  ...         0.044727         1.041699        -0.280669   \n",
       "2        -0.006353  ...         0.093353         2.267085        -0.240777   \n",
       "3         4.597898  ...         4.037009        -2.684412        -0.761704   \n",
       "4        -2.393126  ...         2.891147         4.342871        -1.362929   \n",
       "5        -0.016995  ...        -0.312071         2.199381        -0.042038   \n",
       "6         0.622811  ...        -0.005404         2.223937        -0.056434   \n",
       "7         1.255474  ...        -0.132780         1.673298        -0.394335   \n",
       "\n",
       "   ENSG00000268861  ENSG00000130940  ENSG00000114023  ENSG00000128739  \\\n",
       "0        -0.670971         0.144258         0.474156         0.131337   \n",
       "1        -0.241121         0.099434         0.309017         0.140579   \n",
       "2         0.230487         0.967090         0.659526        -0.165646   \n",
       "3        16.436110         4.991261         1.837799        -0.139316   \n",
       "4        -0.118389         0.260513         5.621881        -0.431263   \n",
       "5         0.169723         0.448860         0.181668         0.239301   \n",
       "6         0.070000        -0.119804         0.706161         0.028982   \n",
       "7        -0.424241         0.699718         0.325061         0.207466   \n",
       "\n",
       "   ENSG00000099364  ENSG00000153885  Lable  \n",
       "0         0.292820         0.121945      0  \n",
       "1         0.205185         0.077161      0  \n",
       "2         0.705663         0.426226      0  \n",
       "3         4.933442        -0.065647      1  \n",
       "4         0.429772        -0.244512      1  \n",
       "5         0.155608        -0.116274      0  \n",
       "6         0.241600        -0.193759      0  \n",
       "7         2.128387        -0.300507      1  \n",
       "\n",
       "[8 rows x 807 columns]"
      ]
     },
     "execution_count": 6,
     "metadata": {},
     "output_type": "execute_result"
    }
   ],
   "source": [
    "data_hum"
   ]
  },
  {
   "cell_type": "markdown",
   "metadata": {},
   "source": [
    "<h4>Function that performs the data standarization</h4>"
   ]
  },
  {
   "cell_type": "code",
   "execution_count": 8,
   "metadata": {},
   "outputs": [],
   "source": [
    "def data_standarization(X, y, train_index, test_index):\n",
    "    \n",
    "    X_train, X_test = X[train_index], X[test_index]\n",
    "    y_train, y_test = y[train_index], y[test_index]\n",
    "    \n",
    "    #Data standarization\n",
    "    scaler = preprocessing.StandardScaler().fit(X_train)\n",
    "    X_train_scaled = scaler.transform(X_train)\n",
    "    X_test_scaled = scaler.transform(X_test)\n",
    "\n",
    "    return [X_train_scaled , y_train, X_test_scaled, y_test]"
   ]
  },
  {
   "cell_type": "markdown",
   "metadata": {},
   "source": [
    "<h4>Function that evaluates the performance for each Value of the Hyperparameters, and chooses the best hyperparameter (Number of neighbors)</h4>"
   ]
  },
  {
   "cell_type": "code",
   "execution_count": 42,
   "metadata": {},
   "outputs": [],
   "source": [
    "def Hyperparameters_evaluation(pipeline, X_train_scaled, y_train):\n",
    "    #Specification of the Hyperparameters (number of neighbors to consider)\n",
    "    N_neighbors = [1, 2]\n",
    "    param_grid = { 'knn__n_neighbors': N_neighbors }\n",
    "    \n",
    "    #Evaluating the Performance for each Value of the Hyperparameters\n",
    "    skfold = RepeatedStratifiedKFold(n_splits=3, n_repeats=1, random_state=None)\n",
    "    gridcv = GridSearchCV(pipeline, cv=skfold, n_jobs=1, param_grid=param_grid, \\\n",
    "    scoring= make_scorer(accuracy_score))\n",
    "    result = gridcv.fit(X_train_scaled, y_train)\n",
    "    \n",
    "    #Obtain the mean accuracy and the corresponding standard deviation across data splits.\n",
    "    accuracies = gridcv.cv_results_['mean_test_score']\n",
    "    std_accuracies = gridcv.cv_results_['std_test_score']\n",
    "    \n",
    "    #Choose the best hyperparameter\n",
    "    best_reg_param_value = param_grid['knn__n_neighbors'][ np.argmax(accuracies) ]\n",
    "    \n",
    "    return(best_reg_param_value)"
   ]
  },
  {
   "cell_type": "markdown",
   "metadata": {},
   "source": [
    "<h4>Function that estimates the performance of the Model</h4>"
   ]
  },
  {
   "cell_type": "code",
   "execution_count": 32,
   "metadata": {},
   "outputs": [],
   "source": [
    "def Model_performance(best_reg_param_value, X_train_scaled , y_train, X_test_scaled, y_test):\n",
    "    #Computation of the confusion matrix on the test set\n",
    "    knn = KNeighborsClassifier(n_neighbors = best_reg_param_value)\n",
    "    knn.fit(X_train_scaled, y_train)\n",
    "    \n",
    "    accuracy= np.mean(knn.predict(X_test_scaled) == y_test)\n",
    "    \n",
    "    return accuracy"
   ]
  },
  {
   "cell_type": "markdown",
   "metadata": {},
   "source": [
    "<h4>Function that performs the F-score feature selection</h4>"
   ]
  },
  {
   "cell_type": "code",
   "execution_count": 33,
   "metadata": {},
   "outputs": [],
   "source": [
    "def Filtering_Fscore(k_features, X_train , y_train, X_test, y_test):\n",
    "    \n",
    "    filtering = SelectKBest(f_classif, k_features)\n",
    "    \n",
    "    filtering.fit(X_train, y_train)\n",
    "    X_train_vr = filtering.transform(X_train)\n",
    "    X_test_vr = filtering.transform(X_test)\n",
    "    \n",
    "    return[X_train_vr , y_train, X_test_vr, y_test]"
   ]
  },
  {
   "cell_type": "markdown",
   "metadata": {},
   "source": [
    "<H4>Function that performs Random Forest feature selection</H4>"
   ]
  },
  {
   "cell_type": "code",
   "execution_count": 34,
   "metadata": {},
   "outputs": [],
   "source": [
    "def Filtering_RandomForest(k_features_rf, X_train_vr , y_train, X_test_vr, y_test):\n",
    "    \n",
    "    rf_selection = SelectFromModel(RandomForestClassifier(n_estimators = 2000, \\\n",
    "    random_state = 0), threshold = 0.0)\n",
    "    \n",
    "    rf_selection.fit(X_train_vr, y_train)\n",
    "    rf_selection.threshold = -1.0 * np.sort(-1.0 * rf_selection.estimator_.feature_importances_)[ k_features_rf - 1 ]\n",
    "    X_train_rf = rf_selection.transform(X_train_vr)\n",
    "    X_test_rf = rf_selection.transform(X_test_vr)\n",
    "    \n",
    "    return[X_train_rf , y_train, X_test_rf, y_test]"
   ]
  },
  {
   "cell_type": "markdown",
   "metadata": {},
   "source": [
    "<h4>1. Estimate the performance of the nearest neighbor classifier on this dataset using 10-fold cross validation when all the features are used for prediction. The number of neighbors should be chosen using an inner cross-validation procedure. You can use 5-fold cross validation for this.</h4>"
   ]
  },
  {
   "cell_type": "code",
   "execution_count": 44,
   "metadata": {},
   "outputs": [
    {
     "name": "stdout",
     "output_type": "stream",
     "text": [
      "............"
     ]
    },
    {
     "name": "stderr",
     "output_type": "stream",
     "text": [
      "C:\\Users\\USUARIO\\Anaconda3\\lib\\site-packages\\sklearn\\model_selection\\_split.py:657: Warning: The least populated class in y has only 2 members, which is too few. The minimum number of members in any class cannot be less than n_splits=3.\n",
      "  % (min_groups, self.n_splits)), Warning)\n",
      "C:\\Users\\USUARIO\\Anaconda3\\lib\\site-packages\\sklearn\\model_selection\\_search.py:814: DeprecationWarning: The default of the `iid` parameter will change from True to False in version 0.22 and will be removed in 0.24. This will change numeric results when test-set sizes are unequal.\n",
      "  DeprecationWarning)\n",
      "C:\\Users\\USUARIO\\Anaconda3\\lib\\site-packages\\sklearn\\model_selection\\_split.py:657: Warning: The least populated class in y has only 1 members, which is too few. The minimum number of members in any class cannot be less than n_splits=3.\n",
      "  % (min_groups, self.n_splits)), Warning)\n",
      "C:\\Users\\USUARIO\\Anaconda3\\lib\\site-packages\\sklearn\\model_selection\\_search.py:814: DeprecationWarning: The default of the `iid` parameter will change from True to False in version 0.22 and will be removed in 0.24. This will change numeric results when test-set sizes are unequal.\n",
      "  DeprecationWarning)\n",
      "C:\\Users\\USUARIO\\Anaconda3\\lib\\site-packages\\sklearn\\model_selection\\_split.py:657: Warning: The least populated class in y has only 2 members, which is too few. The minimum number of members in any class cannot be less than n_splits=3.\n",
      "  % (min_groups, self.n_splits)), Warning)\n",
      "C:\\Users\\USUARIO\\Anaconda3\\lib\\site-packages\\sklearn\\model_selection\\_search.py:814: DeprecationWarning: The default of the `iid` parameter will change from True to False in version 0.22 and will be removed in 0.24. This will change numeric results when test-set sizes are unequal.\n",
      "  DeprecationWarning)\n",
      "C:\\Users\\USUARIO\\Anaconda3\\lib\\site-packages\\sklearn\\model_selection\\_split.py:657: Warning: The least populated class in y has only 2 members, which is too few. The minimum number of members in any class cannot be less than n_splits=3.\n",
      "  % (min_groups, self.n_splits)), Warning)\n",
      "C:\\Users\\USUARIO\\Anaconda3\\lib\\site-packages\\sklearn\\model_selection\\_search.py:814: DeprecationWarning: The default of the `iid` parameter will change from True to False in version 0.22 and will be removed in 0.24. This will change numeric results when test-set sizes are unequal.\n",
      "  DeprecationWarning)\n",
      "C:\\Users\\USUARIO\\Anaconda3\\lib\\site-packages\\sklearn\\model_selection\\_split.py:657: Warning: The least populated class in y has only 2 members, which is too few. The minimum number of members in any class cannot be less than n_splits=3.\n",
      "  % (min_groups, self.n_splits)), Warning)\n",
      "C:\\Users\\USUARIO\\Anaconda3\\lib\\site-packages\\sklearn\\model_selection\\_search.py:814: DeprecationWarning: The default of the `iid` parameter will change from True to False in version 0.22 and will be removed in 0.24. This will change numeric results when test-set sizes are unequal.\n",
      "  DeprecationWarning)\n",
      "C:\\Users\\USUARIO\\Anaconda3\\lib\\site-packages\\sklearn\\model_selection\\_split.py:657: Warning: The least populated class in y has only 2 members, which is too few. The minimum number of members in any class cannot be less than n_splits=3.\n",
      "  % (min_groups, self.n_splits)), Warning)\n",
      "C:\\Users\\USUARIO\\Anaconda3\\lib\\site-packages\\sklearn\\model_selection\\_split.py:657: Warning: The least populated class in y has only 2 members, which is too few. The minimum number of members in any class cannot be less than n_splits=3.\n",
      "  % (min_groups, self.n_splits)), Warning)\n",
      "C:\\Users\\USUARIO\\Anaconda3\\lib\\site-packages\\sklearn\\model_selection\\_search.py:814: DeprecationWarning: The default of the `iid` parameter will change from True to False in version 0.22 and will be removed in 0.24. This will change numeric results when test-set sizes are unequal.\n",
      "  DeprecationWarning)\n",
      "C:\\Users\\USUARIO\\Anaconda3\\lib\\site-packages\\sklearn\\model_selection\\_split.py:657: Warning: The least populated class in y has only 2 members, which is too few. The minimum number of members in any class cannot be less than n_splits=3.\n",
      "  % (min_groups, self.n_splits)), Warning)\n",
      "C:\\Users\\USUARIO\\Anaconda3\\lib\\site-packages\\sklearn\\model_selection\\_search.py:814: DeprecationWarning: The default of the `iid` parameter will change from True to False in version 0.22 and will be removed in 0.24. This will change numeric results when test-set sizes are unequal.\n",
      "  DeprecationWarning)\n",
      "C:\\Users\\USUARIO\\Anaconda3\\lib\\site-packages\\sklearn\\model_selection\\_split.py:657: Warning: The least populated class in y has only 1 members, which is too few. The minimum number of members in any class cannot be less than n_splits=3.\n",
      "  % (min_groups, self.n_splits)), Warning)\n",
      "C:\\Users\\USUARIO\\Anaconda3\\lib\\site-packages\\sklearn\\model_selection\\_search.py:814: DeprecationWarning: The default of the `iid` parameter will change from True to False in version 0.22 and will be removed in 0.24. This will change numeric results when test-set sizes are unequal.\n",
      "  DeprecationWarning)\n",
      "C:\\Users\\USUARIO\\Anaconda3\\lib\\site-packages\\sklearn\\model_selection\\_split.py:657: Warning: The least populated class in y has only 1 members, which is too few. The minimum number of members in any class cannot be less than n_splits=3.\n",
      "  % (min_groups, self.n_splits)), Warning)\n",
      "C:\\Users\\USUARIO\\Anaconda3\\lib\\site-packages\\sklearn\\model_selection\\_search.py:814: DeprecationWarning: The default of the `iid` parameter will change from True to False in version 0.22 and will be removed in 0.24. This will change numeric results when test-set sizes are unequal.\n",
      "  DeprecationWarning)\n",
      "C:\\Users\\USUARIO\\Anaconda3\\lib\\site-packages\\sklearn\\model_selection\\_split.py:657: Warning: The least populated class in y has only 2 members, which is too few. The minimum number of members in any class cannot be less than n_splits=3.\n",
      "  % (min_groups, self.n_splits)), Warning)\n",
      "C:\\Users\\USUARIO\\Anaconda3\\lib\\site-packages\\sklearn\\model_selection\\_search.py:814: DeprecationWarning: The default of the `iid` parameter will change from True to False in version 0.22 and will be removed in 0.24. This will change numeric results when test-set sizes are unequal.\n",
      "  DeprecationWarning)\n"
     ]
    },
    {
     "name": "stdout",
     "output_type": "stream",
     "text": [
      "..........."
     ]
    },
    {
     "name": "stderr",
     "output_type": "stream",
     "text": [
      "C:\\Users\\USUARIO\\Anaconda3\\lib\\site-packages\\sklearn\\model_selection\\_split.py:657: Warning: The least populated class in y has only 2 members, which is too few. The minimum number of members in any class cannot be less than n_splits=3.\n",
      "  % (min_groups, self.n_splits)), Warning)\n",
      "C:\\Users\\USUARIO\\Anaconda3\\lib\\site-packages\\sklearn\\model_selection\\_search.py:814: DeprecationWarning: The default of the `iid` parameter will change from True to False in version 0.22 and will be removed in 0.24. This will change numeric results when test-set sizes are unequal.\n",
      "  DeprecationWarning)\n",
      "C:\\Users\\USUARIO\\Anaconda3\\lib\\site-packages\\sklearn\\model_selection\\_split.py:657: Warning: The least populated class in y has only 1 members, which is too few. The minimum number of members in any class cannot be less than n_splits=3.\n",
      "  % (min_groups, self.n_splits)), Warning)\n",
      "C:\\Users\\USUARIO\\Anaconda3\\lib\\site-packages\\sklearn\\model_selection\\_search.py:814: DeprecationWarning: The default of the `iid` parameter will change from True to False in version 0.22 and will be removed in 0.24. This will change numeric results when test-set sizes are unequal.\n",
      "  DeprecationWarning)\n",
      "C:\\Users\\USUARIO\\Anaconda3\\lib\\site-packages\\sklearn\\model_selection\\_split.py:657: Warning: The least populated class in y has only 2 members, which is too few. The minimum number of members in any class cannot be less than n_splits=3.\n",
      "  % (min_groups, self.n_splits)), Warning)\n",
      "C:\\Users\\USUARIO\\Anaconda3\\lib\\site-packages\\sklearn\\model_selection\\_search.py:814: DeprecationWarning: The default of the `iid` parameter will change from True to False in version 0.22 and will be removed in 0.24. This will change numeric results when test-set sizes are unequal.\n",
      "  DeprecationWarning)\n",
      "C:\\Users\\USUARIO\\Anaconda3\\lib\\site-packages\\sklearn\\model_selection\\_split.py:657: Warning: The least populated class in y has only 2 members, which is too few. The minimum number of members in any class cannot be less than n_splits=3.\n",
      "  % (min_groups, self.n_splits)), Warning)\n",
      "C:\\Users\\USUARIO\\Anaconda3\\lib\\site-packages\\sklearn\\model_selection\\_search.py:814: DeprecationWarning: The default of the `iid` parameter will change from True to False in version 0.22 and will be removed in 0.24. This will change numeric results when test-set sizes are unequal.\n",
      "  DeprecationWarning)\n",
      "C:\\Users\\USUARIO\\Anaconda3\\lib\\site-packages\\sklearn\\model_selection\\_split.py:657: Warning: The least populated class in y has only 2 members, which is too few. The minimum number of members in any class cannot be less than n_splits=3.\n",
      "  % (min_groups, self.n_splits)), Warning)\n",
      "C:\\Users\\USUARIO\\Anaconda3\\lib\\site-packages\\sklearn\\model_selection\\_search.py:814: DeprecationWarning: The default of the `iid` parameter will change from True to False in version 0.22 and will be removed in 0.24. This will change numeric results when test-set sizes are unequal.\n",
      "  DeprecationWarning)\n",
      "C:\\Users\\USUARIO\\Anaconda3\\lib\\site-packages\\sklearn\\model_selection\\_split.py:657: Warning: The least populated class in y has only 2 members, which is too few. The minimum number of members in any class cannot be less than n_splits=3.\n",
      "  % (min_groups, self.n_splits)), Warning)\n",
      "C:\\Users\\USUARIO\\Anaconda3\\lib\\site-packages\\sklearn\\model_selection\\_search.py:814: DeprecationWarning: The default of the `iid` parameter will change from True to False in version 0.22 and will be removed in 0.24. This will change numeric results when test-set sizes are unequal.\n",
      "  DeprecationWarning)\n",
      "C:\\Users\\USUARIO\\Anaconda3\\lib\\site-packages\\sklearn\\model_selection\\_split.py:657: Warning: The least populated class in y has only 1 members, which is too few. The minimum number of members in any class cannot be less than n_splits=3.\n",
      "  % (min_groups, self.n_splits)), Warning)\n",
      "C:\\Users\\USUARIO\\Anaconda3\\lib\\site-packages\\sklearn\\model_selection\\_search.py:814: DeprecationWarning: The default of the `iid` parameter will change from True to False in version 0.22 and will be removed in 0.24. This will change numeric results when test-set sizes are unequal.\n",
      "  DeprecationWarning)\n",
      "C:\\Users\\USUARIO\\Anaconda3\\lib\\site-packages\\sklearn\\model_selection\\_split.py:657: Warning: The least populated class in y has only 2 members, which is too few. The minimum number of members in any class cannot be less than n_splits=3.\n",
      "  % (min_groups, self.n_splits)), Warning)\n",
      "C:\\Users\\USUARIO\\Anaconda3\\lib\\site-packages\\sklearn\\model_selection\\_search.py:814: DeprecationWarning: The default of the `iid` parameter will change from True to False in version 0.22 and will be removed in 0.24. This will change numeric results when test-set sizes are unequal.\n",
      "  DeprecationWarning)\n",
      "C:\\Users\\USUARIO\\Anaconda3\\lib\\site-packages\\sklearn\\model_selection\\_split.py:657: Warning: The least populated class in y has only 2 members, which is too few. The minimum number of members in any class cannot be less than n_splits=3.\n",
      "  % (min_groups, self.n_splits)), Warning)\n",
      "C:\\Users\\USUARIO\\Anaconda3\\lib\\site-packages\\sklearn\\model_selection\\_search.py:814: DeprecationWarning: The default of the `iid` parameter will change from True to False in version 0.22 and will be removed in 0.24. This will change numeric results when test-set sizes are unequal.\n",
      "  DeprecationWarning)\n",
      "C:\\Users\\USUARIO\\Anaconda3\\lib\\site-packages\\sklearn\\model_selection\\_split.py:657: Warning: The least populated class in y has only 2 members, which is too few. The minimum number of members in any class cannot be less than n_splits=3.\n",
      "  % (min_groups, self.n_splits)), Warning)\n",
      "C:\\Users\\USUARIO\\Anaconda3\\lib\\site-packages\\sklearn\\model_selection\\_split.py:657: Warning: The least populated class in y has only 2 members, which is too few. The minimum number of members in any class cannot be less than n_splits=3.\n",
      "  % (min_groups, self.n_splits)), Warning)\n",
      "C:\\Users\\USUARIO\\Anaconda3\\lib\\site-packages\\sklearn\\model_selection\\_search.py:814: DeprecationWarning: The default of the `iid` parameter will change from True to False in version 0.22 and will be removed in 0.24. This will change numeric results when test-set sizes are unequal.\n",
      "  DeprecationWarning)\n",
      "C:\\Users\\USUARIO\\Anaconda3\\lib\\site-packages\\sklearn\\model_selection\\_split.py:657: Warning: The least populated class in y has only 2 members, which is too few. The minimum number of members in any class cannot be less than n_splits=3.\n",
      "  % (min_groups, self.n_splits)), Warning)\n",
      "C:\\Users\\USUARIO\\Anaconda3\\lib\\site-packages\\sklearn\\model_selection\\_search.py:814: DeprecationWarning: The default of the `iid` parameter will change from True to False in version 0.22 and will be removed in 0.24. This will change numeric results when test-set sizes are unequal.\n",
      "  DeprecationWarning)\n"
     ]
    },
    {
     "name": "stdout",
     "output_type": "stream",
     "text": [
      ".......\n",
      " 0.40000000000000013\n"
     ]
    },
    {
     "name": "stderr",
     "output_type": "stream",
     "text": [
      "C:\\Users\\USUARIO\\Anaconda3\\lib\\site-packages\\sklearn\\model_selection\\_split.py:657: Warning: The least populated class in y has only 2 members, which is too few. The minimum number of members in any class cannot be less than n_splits=3.\n",
      "  % (min_groups, self.n_splits)), Warning)\n",
      "C:\\Users\\USUARIO\\Anaconda3\\lib\\site-packages\\sklearn\\model_selection\\_search.py:814: DeprecationWarning: The default of the `iid` parameter will change from True to False in version 0.22 and will be removed in 0.24. This will change numeric results when test-set sizes are unequal.\n",
      "  DeprecationWarning)\n",
      "C:\\Users\\USUARIO\\Anaconda3\\lib\\site-packages\\sklearn\\model_selection\\_split.py:657: Warning: The least populated class in y has only 2 members, which is too few. The minimum number of members in any class cannot be less than n_splits=3.\n",
      "  % (min_groups, self.n_splits)), Warning)\n",
      "C:\\Users\\USUARIO\\Anaconda3\\lib\\site-packages\\sklearn\\model_selection\\_search.py:814: DeprecationWarning: The default of the `iid` parameter will change from True to False in version 0.22 and will be removed in 0.24. This will change numeric results when test-set sizes are unequal.\n",
      "  DeprecationWarning)\n",
      "C:\\Users\\USUARIO\\Anaconda3\\lib\\site-packages\\sklearn\\model_selection\\_split.py:657: Warning: The least populated class in y has only 2 members, which is too few. The minimum number of members in any class cannot be less than n_splits=3.\n",
      "  % (min_groups, self.n_splits)), Warning)\n",
      "C:\\Users\\USUARIO\\Anaconda3\\lib\\site-packages\\sklearn\\model_selection\\_search.py:814: DeprecationWarning: The default of the `iid` parameter will change from True to False in version 0.22 and will be removed in 0.24. This will change numeric results when test-set sizes are unequal.\n",
      "  DeprecationWarning)\n",
      "C:\\Users\\USUARIO\\Anaconda3\\lib\\site-packages\\sklearn\\model_selection\\_split.py:657: Warning: The least populated class in y has only 2 members, which is too few. The minimum number of members in any class cannot be less than n_splits=3.\n",
      "  % (min_groups, self.n_splits)), Warning)\n",
      "C:\\Users\\USUARIO\\Anaconda3\\lib\\site-packages\\sklearn\\model_selection\\_split.py:657: Warning: The least populated class in y has only 2 members, which is too few. The minimum number of members in any class cannot be less than n_splits=3.\n",
      "  % (min_groups, self.n_splits)), Warning)\n",
      "C:\\Users\\USUARIO\\Anaconda3\\lib\\site-packages\\sklearn\\model_selection\\_search.py:814: DeprecationWarning: The default of the `iid` parameter will change from True to False in version 0.22 and will be removed in 0.24. This will change numeric results when test-set sizes are unequal.\n",
      "  DeprecationWarning)\n",
      "C:\\Users\\USUARIO\\Anaconda3\\lib\\site-packages\\sklearn\\model_selection\\_split.py:657: Warning: The least populated class in y has only 2 members, which is too few. The minimum number of members in any class cannot be less than n_splits=3.\n",
      "  % (min_groups, self.n_splits)), Warning)\n",
      "C:\\Users\\USUARIO\\Anaconda3\\lib\\site-packages\\sklearn\\model_selection\\_search.py:814: DeprecationWarning: The default of the `iid` parameter will change from True to False in version 0.22 and will be removed in 0.24. This will change numeric results when test-set sizes are unequal.\n",
      "  DeprecationWarning)\n",
      "C:\\Users\\USUARIO\\Anaconda3\\lib\\site-packages\\sklearn\\model_selection\\_split.py:657: Warning: The least populated class in y has only 2 members, which is too few. The minimum number of members in any class cannot be less than n_splits=3.\n",
      "  % (min_groups, self.n_splits)), Warning)\n",
      "C:\\Users\\USUARIO\\Anaconda3\\lib\\site-packages\\sklearn\\model_selection\\_search.py:814: DeprecationWarning: The default of the `iid` parameter will change from True to False in version 0.22 and will be removed in 0.24. This will change numeric results when test-set sizes are unequal.\n",
      "  DeprecationWarning)\n"
     ]
    }
   ],
   "source": [
    "#10-fold cross validation\n",
    "n_repeats = 10\n",
    "rkfNNC_1 = RepeatedKFold(n_splits=3, n_repeats = n_repeats, random_state=None)\n",
    "\n",
    "total_error_NNC_1=np.zeros(3 * n_repeats)\n",
    "split = 0\n",
    "\n",
    "for train_index, test_index in rkfNNC_1.split(X, y):\n",
    "\n",
    "    sys.stdout.write('.')\n",
    "    sys.stdout.flush()\n",
    "        \n",
    "    dataNNC_1 = data_standarization(X, y, train_index, test_index)\n",
    "    \n",
    "    #Defining the Pipeline of Data Transformation and Estimation\n",
    "    pipelineNNC_1 = Pipeline([ ('knn', KNeighborsClassifier()) ])\n",
    "    \n",
    "    #Evaluating the Performance for each Value of the Hyperparameters\n",
    "    Best_Hyper_NNC_1 = Hyperparameters_evaluation(pipelineNNC_1, dataNNC_1[0],dataNNC_1[1])\n",
    "    \n",
    "    #Fitting the Final Model and Estimating Its Performance\n",
    "    total_error_NNC_1[split]=(1-(Model_performance(Best_Hyper_NNC_1, dataNNC_1[0],dataNNC_1[1], dataNNC_1[2], dataNNC_1[3])))  \n",
    "\n",
    "    split += 1\n",
    "    \n",
    "average_error_NNC_1 = np.mean(total_error_NNC_1)\n",
    "\n",
    "print('\\n',average_error_NNC_1)   "
   ]
  },
  {
   "cell_type": "markdown",
   "metadata": {},
   "source": [
    "<h4>2. Estimate the performance of the nearest neighbor classifier on the same dataset when using a feature selection technique based on the F-score (ANOVA) that picks up the 10 most relevant features. Use the same cross-validation methods as in the previous step.</h4>"
   ]
  },
  {
   "cell_type": "code",
   "execution_count": 45,
   "metadata": {},
   "outputs": [
    {
     "name": "stdout",
     "output_type": "stream",
     "text": [
      "............."
     ]
    },
    {
     "name": "stderr",
     "output_type": "stream",
     "text": [
      "C:\\Users\\USUARIO\\Anaconda3\\lib\\site-packages\\sklearn\\model_selection\\_split.py:657: Warning: The least populated class in y has only 1 members, which is too few. The minimum number of members in any class cannot be less than n_splits=3.\n",
      "  % (min_groups, self.n_splits)), Warning)\n",
      "C:\\Users\\USUARIO\\Anaconda3\\lib\\site-packages\\sklearn\\model_selection\\_search.py:814: DeprecationWarning: The default of the `iid` parameter will change from True to False in version 0.22 and will be removed in 0.24. This will change numeric results when test-set sizes are unequal.\n",
      "  DeprecationWarning)\n",
      "C:\\Users\\USUARIO\\Anaconda3\\lib\\site-packages\\sklearn\\model_selection\\_split.py:657: Warning: The least populated class in y has only 2 members, which is too few. The minimum number of members in any class cannot be less than n_splits=3.\n",
      "  % (min_groups, self.n_splits)), Warning)\n",
      "C:\\Users\\USUARIO\\Anaconda3\\lib\\site-packages\\sklearn\\model_selection\\_split.py:657: Warning: The least populated class in y has only 2 members, which is too few. The minimum number of members in any class cannot be less than n_splits=3.\n",
      "  % (min_groups, self.n_splits)), Warning)\n",
      "C:\\Users\\USUARIO\\Anaconda3\\lib\\site-packages\\sklearn\\model_selection\\_split.py:657: Warning: The least populated class in y has only 2 members, which is too few. The minimum number of members in any class cannot be less than n_splits=3.\n",
      "  % (min_groups, self.n_splits)), Warning)\n",
      "C:\\Users\\USUARIO\\Anaconda3\\lib\\site-packages\\sklearn\\model_selection\\_search.py:814: DeprecationWarning: The default of the `iid` parameter will change from True to False in version 0.22 and will be removed in 0.24. This will change numeric results when test-set sizes are unequal.\n",
      "  DeprecationWarning)\n",
      "C:\\Users\\USUARIO\\Anaconda3\\lib\\site-packages\\sklearn\\model_selection\\_split.py:657: Warning: The least populated class in y has only 1 members, which is too few. The minimum number of members in any class cannot be less than n_splits=3.\n",
      "  % (min_groups, self.n_splits)), Warning)\n",
      "C:\\Users\\USUARIO\\Anaconda3\\lib\\site-packages\\sklearn\\model_selection\\_search.py:814: DeprecationWarning: The default of the `iid` parameter will change from True to False in version 0.22 and will be removed in 0.24. This will change numeric results when test-set sizes are unequal.\n",
      "  DeprecationWarning)\n",
      "C:\\Users\\USUARIO\\Anaconda3\\lib\\site-packages\\sklearn\\model_selection\\_split.py:657: Warning: The least populated class in y has only 2 members, which is too few. The minimum number of members in any class cannot be less than n_splits=3.\n",
      "  % (min_groups, self.n_splits)), Warning)\n",
      "C:\\Users\\USUARIO\\Anaconda3\\lib\\site-packages\\sklearn\\model_selection\\_split.py:657: Warning: The least populated class in y has only 2 members, which is too few. The minimum number of members in any class cannot be less than n_splits=3.\n",
      "  % (min_groups, self.n_splits)), Warning)\n",
      "C:\\Users\\USUARIO\\Anaconda3\\lib\\site-packages\\sklearn\\model_selection\\_split.py:657: Warning: The least populated class in y has only 2 members, which is too few. The minimum number of members in any class cannot be less than n_splits=3.\n",
      "  % (min_groups, self.n_splits)), Warning)\n",
      "C:\\Users\\USUARIO\\Anaconda3\\lib\\site-packages\\sklearn\\model_selection\\_split.py:657: Warning: The least populated class in y has only 2 members, which is too few. The minimum number of members in any class cannot be less than n_splits=3.\n",
      "  % (min_groups, self.n_splits)), Warning)\n",
      "C:\\Users\\USUARIO\\Anaconda3\\lib\\site-packages\\sklearn\\model_selection\\_split.py:657: Warning: The least populated class in y has only 1 members, which is too few. The minimum number of members in any class cannot be less than n_splits=3.\n",
      "  % (min_groups, self.n_splits)), Warning)\n",
      "C:\\Users\\USUARIO\\Anaconda3\\lib\\site-packages\\sklearn\\model_selection\\_search.py:814: DeprecationWarning: The default of the `iid` parameter will change from True to False in version 0.22 and will be removed in 0.24. This will change numeric results when test-set sizes are unequal.\n",
      "  DeprecationWarning)\n"
     ]
    },
    {
     "name": "stdout",
     "output_type": "stream",
     "text": [
      ".........."
     ]
    },
    {
     "name": "stderr",
     "output_type": "stream",
     "text": [
      "C:\\Users\\USUARIO\\Anaconda3\\lib\\site-packages\\sklearn\\model_selection\\_split.py:657: Warning: The least populated class in y has only 2 members, which is too few. The minimum number of members in any class cannot be less than n_splits=3.\n",
      "  % (min_groups, self.n_splits)), Warning)\n",
      "C:\\Users\\USUARIO\\Anaconda3\\lib\\site-packages\\sklearn\\model_selection\\_split.py:657: Warning: The least populated class in y has only 1 members, which is too few. The minimum number of members in any class cannot be less than n_splits=3.\n",
      "  % (min_groups, self.n_splits)), Warning)\n",
      "C:\\Users\\USUARIO\\Anaconda3\\lib\\site-packages\\sklearn\\model_selection\\_search.py:814: DeprecationWarning: The default of the `iid` parameter will change from True to False in version 0.22 and will be removed in 0.24. This will change numeric results when test-set sizes are unequal.\n",
      "  DeprecationWarning)\n",
      "C:\\Users\\USUARIO\\Anaconda3\\lib\\site-packages\\sklearn\\model_selection\\_split.py:657: Warning: The least populated class in y has only 2 members, which is too few. The minimum number of members in any class cannot be less than n_splits=3.\n",
      "  % (min_groups, self.n_splits)), Warning)\n",
      "C:\\Users\\USUARIO\\Anaconda3\\lib\\site-packages\\sklearn\\model_selection\\_split.py:657: Warning: The least populated class in y has only 2 members, which is too few. The minimum number of members in any class cannot be less than n_splits=3.\n",
      "  % (min_groups, self.n_splits)), Warning)\n",
      "C:\\Users\\USUARIO\\Anaconda3\\lib\\site-packages\\sklearn\\model_selection\\_split.py:657: Warning: The least populated class in y has only 2 members, which is too few. The minimum number of members in any class cannot be less than n_splits=3.\n",
      "  % (min_groups, self.n_splits)), Warning)\n",
      "C:\\Users\\USUARIO\\Anaconda3\\lib\\site-packages\\sklearn\\model_selection\\_split.py:657: Warning: The least populated class in y has only 1 members, which is too few. The minimum number of members in any class cannot be less than n_splits=3.\n",
      "  % (min_groups, self.n_splits)), Warning)\n",
      "C:\\Users\\USUARIO\\Anaconda3\\lib\\site-packages\\sklearn\\model_selection\\_search.py:814: DeprecationWarning: The default of the `iid` parameter will change from True to False in version 0.22 and will be removed in 0.24. This will change numeric results when test-set sizes are unequal.\n",
      "  DeprecationWarning)\n",
      "C:\\Users\\USUARIO\\Anaconda3\\lib\\site-packages\\sklearn\\model_selection\\_split.py:657: Warning: The least populated class in y has only 2 members, which is too few. The minimum number of members in any class cannot be less than n_splits=3.\n",
      "  % (min_groups, self.n_splits)), Warning)\n",
      "C:\\Users\\USUARIO\\Anaconda3\\lib\\site-packages\\sklearn\\model_selection\\_split.py:657: Warning: The least populated class in y has only 2 members, which is too few. The minimum number of members in any class cannot be less than n_splits=3.\n",
      "  % (min_groups, self.n_splits)), Warning)\n"
     ]
    },
    {
     "name": "stdout",
     "output_type": "stream",
     "text": [
      ".......\n",
      " 0.37222222222222234\n"
     ]
    },
    {
     "name": "stderr",
     "output_type": "stream",
     "text": [
      "C:\\Users\\USUARIO\\Anaconda3\\lib\\site-packages\\sklearn\\model_selection\\_split.py:657: Warning: The least populated class in y has only 2 members, which is too few. The minimum number of members in any class cannot be less than n_splits=3.\n",
      "  % (min_groups, self.n_splits)), Warning)\n",
      "C:\\Users\\USUARIO\\Anaconda3\\lib\\site-packages\\sklearn\\model_selection\\_split.py:657: Warning: The least populated class in y has only 2 members, which is too few. The minimum number of members in any class cannot be less than n_splits=3.\n",
      "  % (min_groups, self.n_splits)), Warning)\n",
      "C:\\Users\\USUARIO\\Anaconda3\\lib\\site-packages\\sklearn\\model_selection\\_split.py:657: Warning: The least populated class in y has only 2 members, which is too few. The minimum number of members in any class cannot be less than n_splits=3.\n",
      "  % (min_groups, self.n_splits)), Warning)\n",
      "C:\\Users\\USUARIO\\Anaconda3\\lib\\site-packages\\sklearn\\model_selection\\_split.py:657: Warning: The least populated class in y has only 2 members, which is too few. The minimum number of members in any class cannot be less than n_splits=3.\n",
      "  % (min_groups, self.n_splits)), Warning)\n",
      "C:\\Users\\USUARIO\\Anaconda3\\lib\\site-packages\\sklearn\\model_selection\\_split.py:657: Warning: The least populated class in y has only 2 members, which is too few. The minimum number of members in any class cannot be less than n_splits=3.\n",
      "  % (min_groups, self.n_splits)), Warning)\n",
      "C:\\Users\\USUARIO\\Anaconda3\\lib\\site-packages\\sklearn\\model_selection\\_split.py:657: Warning: The least populated class in y has only 2 members, which is too few. The minimum number of members in any class cannot be less than n_splits=3.\n",
      "  % (min_groups, self.n_splits)), Warning)\n",
      "C:\\Users\\USUARIO\\Anaconda3\\lib\\site-packages\\sklearn\\model_selection\\_split.py:657: Warning: The least populated class in y has only 2 members, which is too few. The minimum number of members in any class cannot be less than n_splits=3.\n",
      "  % (min_groups, self.n_splits)), Warning)\n",
      "C:\\Users\\USUARIO\\Anaconda3\\lib\\site-packages\\sklearn\\model_selection\\_split.py:657: Warning: The least populated class in y has only 2 members, which is too few. The minimum number of members in any class cannot be less than n_splits=3.\n",
      "  % (min_groups, self.n_splits)), Warning)\n"
     ]
    }
   ],
   "source": [
    "#10-fold cross validation\n",
    "n_repeats = 10\n",
    "rkfNNC_2 = RepeatedKFold(n_splits=3, n_repeats = n_repeats, random_state=None)\n",
    "\n",
    "total_error_NNC_2=np.zeros(3 * n_repeats)\n",
    "split = 0\n",
    "\n",
    "for train_index, test_index in rkfNNC_2.split(X, y):\n",
    "\n",
    "    sys.stdout.write('.')\n",
    "    sys.stdout.flush()\n",
    "        \n",
    "    dataNNC_2 = data_standarization(X, y, train_index, test_index)\n",
    "    \n",
    "    #Defining the Pipeline of Data Transformation and Estimation\n",
    "    pipelineNNC_2 = Pipeline([ ('knn', KNeighborsClassifier()) ])\n",
    "    \n",
    "    #Filtering to pick the 10 most relevant features with the F-score technique\n",
    "    k_featuresNNC_2 = 10\n",
    "    dataNNC_2_vr = Filtering_Fscore(k_featuresNNC_2, dataNNC_2[0],dataNNC_2[1], dataNNC_2[2], dataNNC_2[3])\n",
    "    \n",
    "    #Evaluating the Performance for each Value of the Hyperparameters\n",
    "    Best_Hyper_NNC_2 = Hyperparameters_evaluation(pipelineNNC_2, dataNNC_2_vr[0],dataNNC_2_vr[1])\n",
    "    \n",
    "    #Fitting the Final Model and Estimating Its Performance\n",
    "    total_error_NNC_2[split]=(1-(Model_performance(Best_Hyper_NNC_2, dataNNC_2_vr[0],dataNNC_2_vr[1], \n",
    "                                                      dataNNC_2_vr[2], dataNNC_2_vr[3])))  \n",
    "\n",
    "    split += 1\n",
    "    \n",
    "average_error_NNC_2 = np.mean(total_error_NNC_2)\n",
    "\n",
    "print('\\n',average_error_NNC_2)"
   ]
  },
  {
   "cell_type": "markdown",
   "metadata": {},
   "source": [
    "<h4>3. Repeat the previous experiment but when a random forest is used to pick up the 10 most relevant features. Use an initial filtering method based on the F-score to keep only the 20% most promising features.</h4>"
   ]
  },
  {
   "cell_type": "code",
   "execution_count": 46,
   "metadata": {},
   "outputs": [
    {
     "name": "stdout",
     "output_type": "stream",
     "text": [
      ".."
     ]
    },
    {
     "name": "stderr",
     "output_type": "stream",
     "text": [
      "C:\\Users\\USUARIO\\Anaconda3\\lib\\site-packages\\sklearn\\model_selection\\_split.py:657: Warning: The least populated class in y has only 2 members, which is too few. The minimum number of members in any class cannot be less than n_splits=3.\n",
      "  % (min_groups, self.n_splits)), Warning)\n"
     ]
    },
    {
     "name": "stdout",
     "output_type": "stream",
     "text": [
      "."
     ]
    },
    {
     "name": "stderr",
     "output_type": "stream",
     "text": [
      "C:\\Users\\USUARIO\\Anaconda3\\lib\\site-packages\\sklearn\\model_selection\\_split.py:657: Warning: The least populated class in y has only 2 members, which is too few. The minimum number of members in any class cannot be less than n_splits=3.\n",
      "  % (min_groups, self.n_splits)), Warning)\n"
     ]
    },
    {
     "name": "stdout",
     "output_type": "stream",
     "text": [
      "."
     ]
    },
    {
     "name": "stderr",
     "output_type": "stream",
     "text": [
      "C:\\Users\\USUARIO\\Anaconda3\\lib\\site-packages\\sklearn\\model_selection\\_split.py:657: Warning: The least populated class in y has only 2 members, which is too few. The minimum number of members in any class cannot be less than n_splits=3.\n",
      "  % (min_groups, self.n_splits)), Warning)\n"
     ]
    },
    {
     "name": "stdout",
     "output_type": "stream",
     "text": [
      "."
     ]
    },
    {
     "name": "stderr",
     "output_type": "stream",
     "text": [
      "C:\\Users\\USUARIO\\Anaconda3\\lib\\site-packages\\sklearn\\model_selection\\_split.py:657: Warning: The least populated class in y has only 1 members, which is too few. The minimum number of members in any class cannot be less than n_splits=3.\n",
      "  % (min_groups, self.n_splits)), Warning)\n",
      "C:\\Users\\USUARIO\\Anaconda3\\lib\\site-packages\\sklearn\\model_selection\\_search.py:814: DeprecationWarning: The default of the `iid` parameter will change from True to False in version 0.22 and will be removed in 0.24. This will change numeric results when test-set sizes are unequal.\n",
      "  DeprecationWarning)\n"
     ]
    },
    {
     "name": "stdout",
     "output_type": "stream",
     "text": [
      "."
     ]
    },
    {
     "name": "stderr",
     "output_type": "stream",
     "text": [
      "C:\\Users\\USUARIO\\Anaconda3\\lib\\site-packages\\sklearn\\model_selection\\_split.py:657: Warning: The least populated class in y has only 2 members, which is too few. The minimum number of members in any class cannot be less than n_splits=3.\n",
      "  % (min_groups, self.n_splits)), Warning)\n"
     ]
    },
    {
     "name": "stdout",
     "output_type": "stream",
     "text": [
      ".."
     ]
    },
    {
     "name": "stderr",
     "output_type": "stream",
     "text": [
      "C:\\Users\\USUARIO\\Anaconda3\\lib\\site-packages\\sklearn\\model_selection\\_split.py:657: Warning: The least populated class in y has only 2 members, which is too few. The minimum number of members in any class cannot be less than n_splits=3.\n",
      "  % (min_groups, self.n_splits)), Warning)\n"
     ]
    },
    {
     "name": "stdout",
     "output_type": "stream",
     "text": [
      "."
     ]
    },
    {
     "name": "stderr",
     "output_type": "stream",
     "text": [
      "C:\\Users\\USUARIO\\Anaconda3\\lib\\site-packages\\sklearn\\model_selection\\_split.py:657: Warning: The least populated class in y has only 2 members, which is too few. The minimum number of members in any class cannot be less than n_splits=3.\n",
      "  % (min_groups, self.n_splits)), Warning)\n",
      "C:\\Users\\USUARIO\\Anaconda3\\lib\\site-packages\\sklearn\\model_selection\\_search.py:814: DeprecationWarning: The default of the `iid` parameter will change from True to False in version 0.22 and will be removed in 0.24. This will change numeric results when test-set sizes are unequal.\n",
      "  DeprecationWarning)\n"
     ]
    },
    {
     "name": "stdout",
     "output_type": "stream",
     "text": [
      "."
     ]
    },
    {
     "name": "stderr",
     "output_type": "stream",
     "text": [
      "C:\\Users\\USUARIO\\Anaconda3\\lib\\site-packages\\sklearn\\model_selection\\_split.py:657: Warning: The least populated class in y has only 1 members, which is too few. The minimum number of members in any class cannot be less than n_splits=3.\n",
      "  % (min_groups, self.n_splits)), Warning)\n",
      "C:\\Users\\USUARIO\\Anaconda3\\lib\\site-packages\\sklearn\\model_selection\\_search.py:814: DeprecationWarning: The default of the `iid` parameter will change from True to False in version 0.22 and will be removed in 0.24. This will change numeric results when test-set sizes are unequal.\n",
      "  DeprecationWarning)\n"
     ]
    },
    {
     "name": "stdout",
     "output_type": "stream",
     "text": [
      "."
     ]
    },
    {
     "name": "stderr",
     "output_type": "stream",
     "text": [
      "C:\\Users\\USUARIO\\Anaconda3\\lib\\site-packages\\sklearn\\model_selection\\_split.py:657: Warning: The least populated class in y has only 2 members, which is too few. The minimum number of members in any class cannot be less than n_splits=3.\n",
      "  % (min_groups, self.n_splits)), Warning)\n"
     ]
    },
    {
     "name": "stdout",
     "output_type": "stream",
     "text": [
      "."
     ]
    },
    {
     "name": "stderr",
     "output_type": "stream",
     "text": [
      "C:\\Users\\USUARIO\\Anaconda3\\lib\\site-packages\\sklearn\\model_selection\\_split.py:657: Warning: The least populated class in y has only 2 members, which is too few. The minimum number of members in any class cannot be less than n_splits=3.\n",
      "  % (min_groups, self.n_splits)), Warning)\n"
     ]
    },
    {
     "name": "stdout",
     "output_type": "stream",
     "text": [
      "."
     ]
    },
    {
     "name": "stderr",
     "output_type": "stream",
     "text": [
      "C:\\Users\\USUARIO\\Anaconda3\\lib\\site-packages\\sklearn\\model_selection\\_split.py:657: Warning: The least populated class in y has only 2 members, which is too few. The minimum number of members in any class cannot be less than n_splits=3.\n",
      "  % (min_groups, self.n_splits)), Warning)\n"
     ]
    },
    {
     "name": "stdout",
     "output_type": "stream",
     "text": [
      "."
     ]
    },
    {
     "name": "stderr",
     "output_type": "stream",
     "text": [
      "C:\\Users\\USUARIO\\Anaconda3\\lib\\site-packages\\sklearn\\model_selection\\_split.py:657: Warning: The least populated class in y has only 2 members, which is too few. The minimum number of members in any class cannot be less than n_splits=3.\n",
      "  % (min_groups, self.n_splits)), Warning)\n"
     ]
    },
    {
     "name": "stdout",
     "output_type": "stream",
     "text": [
      "."
     ]
    },
    {
     "name": "stderr",
     "output_type": "stream",
     "text": [
      "C:\\Users\\USUARIO\\Anaconda3\\lib\\site-packages\\sklearn\\model_selection\\_split.py:657: Warning: The least populated class in y has only 2 members, which is too few. The minimum number of members in any class cannot be less than n_splits=3.\n",
      "  % (min_groups, self.n_splits)), Warning)\n"
     ]
    },
    {
     "name": "stdout",
     "output_type": "stream",
     "text": [
      "."
     ]
    },
    {
     "name": "stderr",
     "output_type": "stream",
     "text": [
      "C:\\Users\\USUARIO\\Anaconda3\\lib\\site-packages\\sklearn\\model_selection\\_split.py:657: Warning: The least populated class in y has only 2 members, which is too few. The minimum number of members in any class cannot be less than n_splits=3.\n",
      "  % (min_groups, self.n_splits)), Warning)\n"
     ]
    },
    {
     "name": "stdout",
     "output_type": "stream",
     "text": [
      "."
     ]
    },
    {
     "name": "stderr",
     "output_type": "stream",
     "text": [
      "C:\\Users\\USUARIO\\Anaconda3\\lib\\site-packages\\sklearn\\model_selection\\_split.py:657: Warning: The least populated class in y has only 2 members, which is too few. The minimum number of members in any class cannot be less than n_splits=3.\n",
      "  % (min_groups, self.n_splits)), Warning)\n"
     ]
    },
    {
     "name": "stdout",
     "output_type": "stream",
     "text": [
      "."
     ]
    },
    {
     "name": "stderr",
     "output_type": "stream",
     "text": [
      "C:\\Users\\USUARIO\\Anaconda3\\lib\\site-packages\\sklearn\\model_selection\\_split.py:657: Warning: The least populated class in y has only 1 members, which is too few. The minimum number of members in any class cannot be less than n_splits=3.\n",
      "  % (min_groups, self.n_splits)), Warning)\n",
      "C:\\Users\\USUARIO\\Anaconda3\\lib\\site-packages\\sklearn\\model_selection\\_search.py:814: DeprecationWarning: The default of the `iid` parameter will change from True to False in version 0.22 and will be removed in 0.24. This will change numeric results when test-set sizes are unequal.\n",
      "  DeprecationWarning)\n"
     ]
    },
    {
     "name": "stdout",
     "output_type": "stream",
     "text": [
      ".."
     ]
    },
    {
     "name": "stderr",
     "output_type": "stream",
     "text": [
      "C:\\Users\\USUARIO\\Anaconda3\\lib\\site-packages\\sklearn\\model_selection\\_split.py:657: Warning: The least populated class in y has only 1 members, which is too few. The minimum number of members in any class cannot be less than n_splits=3.\n",
      "  % (min_groups, self.n_splits)), Warning)\n",
      "C:\\Users\\USUARIO\\Anaconda3\\lib\\site-packages\\sklearn\\model_selection\\_search.py:814: DeprecationWarning: The default of the `iid` parameter will change from True to False in version 0.22 and will be removed in 0.24. This will change numeric results when test-set sizes are unequal.\n",
      "  DeprecationWarning)\n"
     ]
    },
    {
     "name": "stdout",
     "output_type": "stream",
     "text": [
      "."
     ]
    },
    {
     "name": "stderr",
     "output_type": "stream",
     "text": [
      "C:\\Users\\USUARIO\\Anaconda3\\lib\\site-packages\\sklearn\\model_selection\\_split.py:657: Warning: The least populated class in y has only 2 members, which is too few. The minimum number of members in any class cannot be less than n_splits=3.\n",
      "  % (min_groups, self.n_splits)), Warning)\n",
      "C:\\Users\\USUARIO\\Anaconda3\\lib\\site-packages\\sklearn\\model_selection\\_search.py:814: DeprecationWarning: The default of the `iid` parameter will change from True to False in version 0.22 and will be removed in 0.24. This will change numeric results when test-set sizes are unequal.\n",
      "  DeprecationWarning)\n"
     ]
    },
    {
     "name": "stdout",
     "output_type": "stream",
     "text": [
      "."
     ]
    },
    {
     "name": "stderr",
     "output_type": "stream",
     "text": [
      "C:\\Users\\USUARIO\\Anaconda3\\lib\\site-packages\\sklearn\\model_selection\\_split.py:657: Warning: The least populated class in y has only 2 members, which is too few. The minimum number of members in any class cannot be less than n_splits=3.\n",
      "  % (min_groups, self.n_splits)), Warning)\n"
     ]
    },
    {
     "name": "stdout",
     "output_type": "stream",
     "text": [
      "."
     ]
    },
    {
     "name": "stderr",
     "output_type": "stream",
     "text": [
      "C:\\Users\\USUARIO\\Anaconda3\\lib\\site-packages\\sklearn\\model_selection\\_split.py:657: Warning: The least populated class in y has only 2 members, which is too few. The minimum number of members in any class cannot be less than n_splits=3.\n",
      "  % (min_groups, self.n_splits)), Warning)\n",
      "C:\\Users\\USUARIO\\Anaconda3\\lib\\site-packages\\sklearn\\model_selection\\_search.py:814: DeprecationWarning: The default of the `iid` parameter will change from True to False in version 0.22 and will be removed in 0.24. This will change numeric results when test-set sizes are unequal.\n",
      "  DeprecationWarning)\n"
     ]
    },
    {
     "name": "stdout",
     "output_type": "stream",
     "text": [
      "."
     ]
    },
    {
     "name": "stderr",
     "output_type": "stream",
     "text": [
      "C:\\Users\\USUARIO\\Anaconda3\\lib\\site-packages\\sklearn\\model_selection\\_split.py:657: Warning: The least populated class in y has only 1 members, which is too few. The minimum number of members in any class cannot be less than n_splits=3.\n",
      "  % (min_groups, self.n_splits)), Warning)\n",
      "C:\\Users\\USUARIO\\Anaconda3\\lib\\site-packages\\sklearn\\model_selection\\_search.py:814: DeprecationWarning: The default of the `iid` parameter will change from True to False in version 0.22 and will be removed in 0.24. This will change numeric results when test-set sizes are unequal.\n",
      "  DeprecationWarning)\n"
     ]
    },
    {
     "name": "stdout",
     "output_type": "stream",
     "text": [
      "."
     ]
    },
    {
     "name": "stderr",
     "output_type": "stream",
     "text": [
      "C:\\Users\\USUARIO\\Anaconda3\\lib\\site-packages\\sklearn\\model_selection\\_split.py:657: Warning: The least populated class in y has only 2 members, which is too few. The minimum number of members in any class cannot be less than n_splits=3.\n",
      "  % (min_groups, self.n_splits)), Warning)\n"
     ]
    },
    {
     "name": "stdout",
     "output_type": "stream",
     "text": [
      "."
     ]
    },
    {
     "name": "stderr",
     "output_type": "stream",
     "text": [
      "C:\\Users\\USUARIO\\Anaconda3\\lib\\site-packages\\sklearn\\model_selection\\_split.py:657: Warning: The least populated class in y has only 1 members, which is too few. The minimum number of members in any class cannot be less than n_splits=3.\n",
      "  % (min_groups, self.n_splits)), Warning)\n",
      "C:\\Users\\USUARIO\\Anaconda3\\lib\\site-packages\\sklearn\\model_selection\\_search.py:814: DeprecationWarning: The default of the `iid` parameter will change from True to False in version 0.22 and will be removed in 0.24. This will change numeric results when test-set sizes are unequal.\n",
      "  DeprecationWarning)\n"
     ]
    },
    {
     "name": "stdout",
     "output_type": "stream",
     "text": [
      "."
     ]
    },
    {
     "name": "stderr",
     "output_type": "stream",
     "text": [
      "C:\\Users\\USUARIO\\Anaconda3\\lib\\site-packages\\sklearn\\model_selection\\_split.py:657: Warning: The least populated class in y has only 2 members, which is too few. The minimum number of members in any class cannot be less than n_splits=3.\n",
      "  % (min_groups, self.n_splits)), Warning)\n"
     ]
    },
    {
     "name": "stdout",
     "output_type": "stream",
     "text": [
      ".."
     ]
    },
    {
     "name": "stderr",
     "output_type": "stream",
     "text": [
      "C:\\Users\\USUARIO\\Anaconda3\\lib\\site-packages\\sklearn\\model_selection\\_split.py:657: Warning: The least populated class in y has only 2 members, which is too few. The minimum number of members in any class cannot be less than n_splits=3.\n",
      "  % (min_groups, self.n_splits)), Warning)\n"
     ]
    },
    {
     "name": "stdout",
     "output_type": "stream",
     "text": [
      "."
     ]
    },
    {
     "name": "stderr",
     "output_type": "stream",
     "text": [
      "C:\\Users\\USUARIO\\Anaconda3\\lib\\site-packages\\sklearn\\model_selection\\_split.py:657: Warning: The least populated class in y has only 2 members, which is too few. The minimum number of members in any class cannot be less than n_splits=3.\n",
      "  % (min_groups, self.n_splits)), Warning)\n"
     ]
    },
    {
     "name": "stdout",
     "output_type": "stream",
     "text": [
      "\n",
      " 0.3444444444444445\n"
     ]
    },
    {
     "name": "stderr",
     "output_type": "stream",
     "text": [
      "C:\\Users\\USUARIO\\Anaconda3\\lib\\site-packages\\sklearn\\model_selection\\_split.py:657: Warning: The least populated class in y has only 2 members, which is too few. The minimum number of members in any class cannot be less than n_splits=3.\n",
      "  % (min_groups, self.n_splits)), Warning)\n"
     ]
    }
   ],
   "source": [
    "#10-fold cross validation\n",
    "n_repeats = 10\n",
    "rkfNNC_3 = RepeatedKFold(n_splits=3, n_repeats = n_repeats, random_state=None)\n",
    "\n",
    "total_error_NNC_3=np.zeros(3 * n_repeats)\n",
    "split = 0\n",
    "\n",
    "for train_index, test_index in rkfNNC_3.split(X, y):\n",
    "\n",
    "    sys.stdout.write('.')\n",
    "    sys.stdout.flush()\n",
    "        \n",
    "    dataNNC_3 = data_standarization(X, y, train_index, test_index)\n",
    "    \n",
    "    #Defining the Pipeline of Data Transformation and Estimation\n",
    "    pipelineNNC_3 = Pipeline([ ('knn', KNeighborsClassifier()) ])\n",
    "    \n",
    "    #Filtering to pick the 20% most relevant features with the F-score technique\n",
    "    k_featuresNNC_3 = int(np.round(X.shape[ 1 ] * 0.2))\n",
    "    dataNNC_3_vr = Filtering_Fscore(k_featuresNNC_3, dataNNC_3[0],dataNNC_3[1], dataNNC_3[2], dataNNC_3[3])\n",
    "    \n",
    "    #Filtering to pick the 10 most relevant features with Random Forest\n",
    "    k_features_rfNNC_3 = 10\n",
    "    dataNNC_3_rf = Filtering_RandomForest(k_features_rfNNC_3, dataNNC_3_vr[0], dataNNC_3_vr[1], dataNNC_3_vr[2],\n",
    "                                          dataNNC_3_vr[3])\n",
    "    \n",
    "    #Evaluating the Performance for each Value of the Hyperparameters\n",
    "    Best_Hyper_NNC_3 = Hyperparameters_evaluation(pipelineNNC_3, dataNNC_3_rf[0], dataNNC_3_rf[1])\n",
    "    \n",
    "    #Fitting the Final Model and Estimating Its Performance\n",
    "    total_error_NNC_3[split]=(1-(Model_performance(Best_Hyper_NNC_3, dataNNC_3_rf[0],dataNNC_3_rf[1], \n",
    "                                                      dataNNC_3_rf[2], dataNNC_3_rf[3])))  \n",
    "\n",
    "    split += 1\n",
    "    \n",
    "average_error_NNC_3 = np.mean(total_error_NNC_3)\n",
    "\n",
    "print('\\n',average_error_NNC_3)"
   ]
  },
  {
   "cell_type": "code",
   "execution_count": 47,
   "metadata": {},
   "outputs": [
    {
     "data": {
      "text/plain": [
       "1"
      ]
     },
     "execution_count": 47,
     "metadata": {},
     "output_type": "execute_result"
    }
   ],
   "source": [
    "Best_Hyper_NNC_3"
   ]
  },
  {
   "cell_type": "markdown",
   "metadata": {},
   "source": [
    "<H3>SUMMARY</H3>"
   ]
  },
  {
   "cell_type": "code",
   "execution_count": 48,
   "metadata": {},
   "outputs": [
    {
     "name": "stdout",
     "output_type": "stream",
     "text": [
      "Prediction errors calculated:\n",
      "\n",
      "                                              Error\n",
      "All features                               0.400000\n",
      "Top 10 features (F-score)                  0.372222\n",
      "Top 10 features (F-score + Random Forest)  0.344444\n"
     ]
    }
   ],
   "source": [
    "print('Prediction errors calculated:\\n')\n",
    "\n",
    "summary = [ (average_error_NNC_1) ,\n",
    "            (average_error_NNC_2),\n",
    "            (average_error_NNC_3)]\n",
    " \n",
    "final = pd.DataFrame(summary, columns = ['Error'], index=['All features', 'Top 10 features (F-score)',\n",
    "                                                          'Top 10 features (F-score + Random Forest)'])\n",
    "\n",
    "print(final)"
   ]
  },
  {
   "cell_type": "markdown",
   "metadata": {},
   "source": [
    "<h4>4. What feature selection method performs best? Can you explain why?</h4>"
   ]
  },
  {
   "cell_type": "markdown",
   "metadata": {},
   "source": [
    "The feature selection with F-score + Random Forest performed the best in terms of the generalisation error obtained, however, although the F-score alone obtained a higher error, the difference was small, and this method ran significantly faster. For which when accuracy is the most important, F-score + Random Forest would be the best method, and when time efficiency has a higher weight, F-score alone would be a good choice."
   ]
  },
  {
   "cell_type": "markdown",
   "metadata": {},
   "source": [
    "<h4>Now we will address the problem of analyzing the trade-off between interpretability and prediction accuracy. For this, you are asked to:</h4>\n",
    "\n",
    "<h4>1. Estimate the performance of the nearest neighbor classifier with K=2 as a function of the features used for prediction. Use a 10-times 10-fold cross-validation method and plot the results obtained. That is prediction error vs. the number of features used for prediction. Use the F-score for feature selection. Report results from 1 feature to 200 features. Not all features need to be explored. Use a higher resolution when you are closer to 1 feature.</h4>"
   ]
  },
  {
   "cell_type": "code",
   "execution_count": 56,
   "metadata": {},
   "outputs": [
    {
     "name": "stdout",
     "output_type": "stream",
     "text": [
      "..............................\n",
      " [0.38888889 0.43333333 0.4        0.4        0.41666667 0.40555556\n",
      " 0.41666667 0.41666667 0.41666667 0.39444444 0.39444444 0.39444444\n",
      " 0.39444444 0.39444444 0.39444444 0.39444444 0.38333333 0.38333333\n",
      " 0.38333333 0.37222222 0.38333333 0.37222222 0.38333333 0.39444444\n",
      " 0.39444444 0.39444444 0.39444444 0.39444444 0.39444444 0.39444444\n",
      " 0.39444444 0.39444444 0.39444444 0.39444444 0.39444444 0.36666667\n",
      " 0.36666667 0.39444444 0.39444444 0.39444444 0.39444444 0.39444444\n",
      " 0.39444444 0.39444444 0.39444444 0.38333333 0.38333333 0.38333333\n",
      " 0.38333333 0.38333333 0.38333333 0.38333333 0.38333333 0.38333333\n",
      " 0.38333333 0.38333333 0.38333333 0.38333333 0.37222222 0.38333333\n",
      " 0.38333333 0.38333333 0.38333333 0.38333333 0.37222222 0.37222222\n",
      " 0.37222222 0.38333333 0.38333333 0.38333333 0.38333333 0.38333333\n",
      " 0.38333333 0.38333333 0.38333333 0.39444444 0.39444444 0.39444444\n",
      " 0.39444444 0.39444444 0.39444444 0.38333333 0.39444444 0.39444444\n",
      " 0.38333333 0.38333333 0.38333333 0.38333333 0.38333333 0.38333333\n",
      " 0.38333333 0.38333333 0.38333333 0.38333333 0.38333333 0.38333333\n",
      " 0.38333333 0.38333333 0.38333333 0.38333333 0.38333333 0.38333333\n",
      " 0.38333333 0.38333333 0.38333333 0.38333333 0.38333333 0.38333333\n",
      " 0.38333333 0.38333333 0.38333333 0.38333333 0.38333333 0.38333333\n",
      " 0.38333333 0.38333333 0.38333333 0.38333333 0.38333333 0.38333333\n",
      " 0.38333333 0.38333333 0.38333333 0.38333333 0.38333333 0.38333333\n",
      " 0.38333333 0.38333333 0.38333333 0.38333333 0.38333333 0.38333333\n",
      " 0.38333333 0.38333333 0.38333333 0.38333333 0.38333333 0.38333333\n",
      " 0.38333333 0.38333333 0.38333333 0.38333333 0.38333333 0.38333333\n",
      " 0.38333333 0.38333333 0.38333333 0.38333333 0.38333333 0.38333333\n",
      " 0.38333333 0.38333333 0.38333333 0.38333333 0.38333333 0.38333333\n",
      " 0.38333333 0.38333333 0.38333333 0.38333333 0.38333333 0.38333333\n",
      " 0.38333333 0.38333333 0.38333333 0.38333333 0.38333333 0.38333333\n",
      " 0.38333333 0.38333333 0.38333333 0.38333333 0.38333333 0.38333333\n",
      " 0.38333333 0.38333333 0.38333333 0.38333333 0.38333333 0.38333333\n",
      " 0.38333333 0.38333333 0.38333333 0.38333333 0.38333333 0.38333333\n",
      " 0.38333333 0.38333333 0.38333333 0.38333333 0.38333333 0.38333333\n",
      " 0.38333333 0.38333333 0.38333333 0.38333333 0.38333333 0.38333333\n",
      " 0.38333333 0.38333333]\n"
     ]
    }
   ],
   "source": [
    "ensemble_size = 200\n",
    "\n",
    "#10-fold cross validation\n",
    "n_repeats = 10\n",
    "rkfNNC_4 = RepeatedKFold(n_splits=3, n_repeats = n_repeats, random_state=None)\n",
    "\n",
    "s = ((3 * n_repeats), ensemble_size)\n",
    "total_error_NNC_4= np.zeros(s)\n",
    "split = 0\n",
    "\n",
    "for train_index, test_index in rkfNNC_4.split(X, y):\n",
    "\n",
    "    sys.stdout.write('.')\n",
    "    sys.stdout.flush()\n",
    "        \n",
    "    dataNNC_4 = data_standarization(X, y, train_index, test_index)\n",
    "    \n",
    "    #Defining the Pipeline of Data Transformation and Estimation\n",
    "    pipelineNNC_4 = Pipeline([ ('knn', KNeighborsClassifier()) ])\n",
    "    \n",
    "    for i in range(ensemble_size):\n",
    "    \n",
    "        #Filtering to pick the most relevant features with the F-score technique\n",
    "        k_featuresNNC_4 = i+1\n",
    "        dataNNC_4_vr = Filtering_Fscore(k_featuresNNC_4, dataNNC_4[0],dataNNC_4[1], dataNNC_4[2], dataNNC_4[3])\n",
    "\n",
    "        #Fitting the Final Model and Estimating Its Performance\n",
    "        total_error_NNC_4[split, i]=(1-(Model_performance(2, dataNNC_4_vr[0],dataNNC_4_vr[1], \n",
    "                                                          dataNNC_4_vr[2], dataNNC_4_vr[3])))  \n",
    "        \n",
    "    split += 1\n",
    "    \n",
    "average_error_NNC_4 = total_error_NNC_4.mean(axis=0)\n",
    "\n",
    "print('\\n',average_error_NNC_4)\n"
   ]
  },
  {
   "cell_type": "markdown",
   "metadata": {},
   "source": [
    "<h4>2. Repeat that process when the feature selection is done externally to the cross-validation loop using all the available data. Include these results in the previous plot.</h4>"
   ]
  },
  {
   "cell_type": "code",
   "execution_count": 57,
   "metadata": {},
   "outputs": [
    {
     "name": "stdout",
     "output_type": "stream",
     "text": [
      "........................................................................................................................................................................................................\n",
      " [0.06666667 0.15555556 0.16666667 0.22222222 0.15555556 0.08888889\n",
      " 0.15555556 0.23333333 0.2        0.16666667 0.13333333 0.1\n",
      " 0.18888889 0.21111111 0.11111111 0.21111111 0.11111111 0.11111111\n",
      " 0.16666667 0.2        0.16666667 0.13333333 0.2        0.08888889\n",
      " 0.13333333 0.26666667 0.17777778 0.13333333 0.15555556 0.13333333\n",
      " 0.22222222 0.2        0.11111111 0.23333333 0.22222222 0.23333333\n",
      " 0.23333333 0.14444444 0.2        0.17777778 0.16666667 0.18888889\n",
      " 0.15555556 0.13333333 0.17777778 0.2        0.14444444 0.16666667\n",
      " 0.16666667 0.14444444 0.18888889 0.18888889 0.25555556 0.17777778\n",
      " 0.14444444 0.15555556 0.2        0.12222222 0.13333333 0.18888889\n",
      " 0.22222222 0.15555556 0.15555556 0.13333333 0.16666667 0.13333333\n",
      " 0.18888889 0.24444444 0.18888889 0.1        0.12222222 0.13333333\n",
      " 0.22222222 0.14444444 0.23333333 0.16666667 0.15555556 0.14444444\n",
      " 0.17777778 0.15555556 0.16666667 0.18888889 0.12222222 0.14444444\n",
      " 0.08888889 0.17777778 0.16666667 0.16666667 0.15555556 0.12222222\n",
      " 0.15555556 0.21111111 0.21111111 0.18888889 0.16666667 0.18888889\n",
      " 0.17777778 0.18888889 0.13333333 0.16666667 0.17777778 0.13333333\n",
      " 0.2        0.14444444 0.1        0.16666667 0.24444444 0.17777778\n",
      " 0.17777778 0.2        0.16666667 0.18888889 0.16666667 0.16666667\n",
      " 0.16666667 0.21111111 0.11111111 0.13333333 0.13333333 0.15555556\n",
      " 0.17777778 0.17777778 0.06666667 0.21111111 0.16666667 0.14444444\n",
      " 0.16666667 0.1        0.17777778 0.22222222 0.2        0.18888889\n",
      " 0.24444444 0.15555556 0.17777778 0.21111111 0.2        0.15555556\n",
      " 0.17777778 0.22222222 0.16666667 0.15555556 0.08888889 0.22222222\n",
      " 0.24444444 0.16666667 0.14444444 0.2        0.15555556 0.14444444\n",
      " 0.18888889 0.18888889 0.14444444 0.16666667 0.23333333 0.16666667\n",
      " 0.15555556 0.22222222 0.16666667 0.16666667 0.17777778 0.17777778\n",
      " 0.21111111 0.15555556 0.15555556 0.11111111 0.15555556 0.2\n",
      " 0.08888889 0.25555556 0.22222222 0.22222222 0.21111111 0.12222222\n",
      " 0.15555556 0.1        0.15555556 0.11111111 0.23333333 0.22222222\n",
      " 0.12222222 0.18888889 0.07777778 0.08888889 0.16666667 0.12222222\n",
      " 0.16666667 0.13333333 0.16666667 0.14444444 0.16666667 0.17777778\n",
      " 0.13333333 0.08888889 0.12222222 0.16666667 0.13333333 0.18888889\n",
      " 0.17777778 0.17777778]\n"
     ]
    }
   ],
   "source": [
    "ensemble_size5 = 200\n",
    "n_repeats5 = 10\n",
    "s5 = ((3 * n_repeats5), ensemble_size5)\n",
    "total_error_NNC_5= np.zeros(s5)\n",
    "\n",
    "for i in range(ensemble_size5):\n",
    "    \n",
    "    sys.stdout.write('.')\n",
    "    sys.stdout.flush()\n",
    "    \n",
    "    #Filtering to pick the most relevant features with the F-score technique\n",
    "    k_featuresNNC_5 = i+1\n",
    "    filteringNNC_5 = SelectKBest(f_classif,  k_featuresNNC_5)\n",
    "    X_fil=filteringNNC_5.fit_transform(X, y)\n",
    "        \n",
    "    #10-fold cross validation\n",
    "    rkfNNC_5 = RepeatedKFold(n_splits=3, n_repeats = n_repeats5, random_state=None)\n",
    "\n",
    "    split = 0\n",
    "\n",
    "    for train_index, test_index in rkfNNC_5.split(X_fil, y):\n",
    "\n",
    "        dataNNC_5 = data_standarization(X_fil, y, train_index, test_index)\n",
    "\n",
    "        #Defining the Pipeline of Data Transformation and Estimation\n",
    "        pipelineNNC_5 = Pipeline([ ('knn', KNeighborsClassifier()) ])\n",
    "\n",
    "        #Fitting the Final Model and Estimating Its Performance\n",
    "        total_error_NNC_5[split, i]=(1-(Model_performance(3, dataNNC_5[0],dataNNC_5[1], \n",
    "                                                              dataNNC_5[2], dataNNC_5[3])))  \n",
    "\n",
    "        split += 1\n",
    "    \n",
    "average_error_NNC_5 = total_error_NNC_5.mean(axis=0)\n",
    "\n",
    "print('\\n',average_error_NNC_5)\n",
    "       "
   ]
  },
  {
   "cell_type": "code",
   "execution_count": 58,
   "metadata": {},
   "outputs": [
    {
     "data": {
      "image/png": "[encoded data removed]",
      "text/plain": [
       "<Figure size 1080x504 with 1 Axes>"
      ]
     },
     "metadata": {
      "needs_background": "light"
     },
     "output_type": "display_data"
    }
   ],
   "source": [
    "#sel = np.array([0,1,3,5,7,11,15,19,23,29,39,49])\n",
    "sel = np.array([0,1,3,5,7,11,15,19,23,29,39,49,79,109,149,199])\n",
    "\n",
    "features = np.arange(1, 500 + 1, 1)\n",
    "\n",
    "plt.figure(figsize=(15,7))\n",
    "line1, = plt.plot(features[ sel ], average_error_NNC_4[ sel ], 'o-', color=\"g\")\n",
    "line1, = plt.plot(features[ sel ], average_error_NNC_5[ sel ], 'o-', color=\"r\")\n",
    "plt.grid()\n",
    "plt.title(\"Performance of the nearest neighbor classifier with K=3 as function of the features used for prediction\")\n",
    "plt.xlabel('Number of Features')\n",
    "plt.xticks(np.array(features[ sel ]))\n",
    "plt.ylabel('Classification Error')\n",
    "legend_handles = [ mlines.Line2D([], [], color='g', marker='o', \\\n",
    "                   markersize=15, label='Feature selection within CV'),\n",
    "                   mlines.Line2D([], [], color='r', marker='o', \\\n",
    "                   markersize=15, label='Feature selection with all data') ]\n",
    "plt.legend(handles=legend_handles, loc = 1)\n",
    "plt.show()"
   ]
  },
  {
   "cell_type": "markdown",
   "metadata": {},
   "source": [
    "<h4>3. Are the two estimates obtained similar? What are their differences? If they are different try to explain why this is the case.</h4>"
   ]
  },
  {
   "cell_type": "markdown",
   "metadata": {},
   "source": [
    "Although in general it seems that both approaches follow a similar pattern, increasing and decreasing the classification error for similar number of selected features; the classification error for the case in which all the data was used for the feature selection is much smaller than the error obtained when only the training set is used, this shows that when all the data are used to make selection of attributes, the generalization error is underestimated."
   ]
  },
  {
   "cell_type": "markdown",
   "metadata": {},
   "source": [
    "<h4>4. By taking a look at these results, what is the optimal number of features to use in this dataset?</h4>"
   ]
  },
  {
   "cell_type": "markdown",
   "metadata": {},
   "source": [
    "<h4>5. Given the results obtained in this part of the practical, you are asked to indicate which particular features should be used for prediction on this dataset. Include a list with them. Take a look at the documentation of SelectKBest from scikit-learn to understand how to do this. Use all available data to provide such a list of features. </h4>"
   ]
  },
  {
   "cell_type": "code",
   "execution_count": 71,
   "metadata": {},
   "outputs": [
    {
     "name": "stdout",
     "output_type": "stream",
     "text": [
      "Optimal number of features:\n"
     ]
    },
    {
     "ename": "TypeError",
     "evalue": "only size-1 arrays can be converted to Python scalars",
     "output_type": "error",
     "traceback": [
      "\u001b[1;31m---------------------------------------------------------------------------\u001b[0m",
      "\u001b[1;31mTypeError\u001b[0m                                 Traceback (most recent call last)",
      "\u001b[1;32m<ipython-input-71-6e56c1525f24>\u001b[0m in \u001b[0;36m<module>\u001b[1;34m\u001b[0m\n\u001b[0;32m      5\u001b[0m \u001b[0mprint\u001b[0m\u001b[1;33m(\u001b[0m\u001b[1;34m\"Optimal number of features:\"\u001b[0m\u001b[1;33m)\u001b[0m\u001b[1;33m\u001b[0m\u001b[1;33m\u001b[0m\u001b[0m\n\u001b[0;32m      6\u001b[0m \u001b[1;32mfor\u001b[0m \u001b[0mx\u001b[0m \u001b[1;32min\u001b[0m \u001b[0moptimal_number_features\u001b[0m\u001b[1;33m:\u001b[0m\u001b[1;33m\u001b[0m\u001b[1;33m\u001b[0m\u001b[0m\n\u001b[1;32m----> 7\u001b[1;33m     \u001b[0mprint\u001b[0m\u001b[1;33m(\u001b[0m\u001b[0mint\u001b[0m\u001b[1;33m(\u001b[0m\u001b[0mx\u001b[0m \u001b[1;33m+\u001b[0m \u001b[1;36m1\u001b[0m\u001b[1;33m)\u001b[0m\u001b[1;33m)\u001b[0m\u001b[1;33m\u001b[0m\u001b[1;33m\u001b[0m\u001b[0m\n\u001b[0m",
      "\u001b[1;31mTypeError\u001b[0m: only size-1 arrays can be converted to Python scalars"
     ]
    }
   ],
   "source": [
    "#Choise of the optimal number of features according to the min error in the set where feature selection was only performed on\n",
    "#the training set\n",
    "best= min(total_error_NNC_4.mean(axis=0))\n",
    "optimal_number_features = np.where(total_error_NNC_4.mean(axis=0) == min(total_error_NNC_4.mean(axis=0)))\n",
    "print(\"Optimal number of features:\")\n",
    "for x in optimal_number_features:\n",
    "    print(int(x + 1))"
   ]
  },
  {
   "cell_type": "code",
   "execution_count": 94,
   "metadata": {},
   "outputs": [
    {
     "data": {
      "text/plain": [
       "(array([35, 36], dtype=int64),)"
      ]
     },
     "execution_count": 94,
     "metadata": {},
     "output_type": "execute_result"
    }
   ],
   "source": [
    "optimal_number_features"
   ]
  },
  {
   "cell_type": "code",
   "execution_count": 72,
   "metadata": {},
   "outputs": [
    {
     "ename": "TypeError",
     "evalue": "'int' object is not iterable",
     "output_type": "error",
     "traceback": [
      "\u001b[1;31m---------------------------------------------------------------------------\u001b[0m",
      "\u001b[1;31mTypeError\u001b[0m                                 Traceback (most recent call last)",
      "\u001b[1;32m<ipython-input-72-9034c3cd7010>\u001b[0m in \u001b[0;36m<module>\u001b[1;34m\u001b[0m\n\u001b[0;32m      1\u001b[0m \u001b[0moptimal_number_features\u001b[0m\u001b[1;33m=\u001b[0m\u001b[1;36m20\u001b[0m\u001b[1;33m\u001b[0m\u001b[1;33m\u001b[0m\u001b[0m\n\u001b[1;32m----> 2\u001b[1;33m \u001b[1;32mfor\u001b[0m \u001b[0mx\u001b[0m \u001b[1;32min\u001b[0m \u001b[0moptimal_number_features\u001b[0m\u001b[1;33m:\u001b[0m\u001b[1;33m\u001b[0m\u001b[1;33m\u001b[0m\u001b[0m\n\u001b[0m\u001b[0;32m      3\u001b[0m     \u001b[1;31m#Filtering of the standarized data for the optimal number of features\u001b[0m\u001b[1;33m\u001b[0m\u001b[1;33m\u001b[0m\u001b[1;33m\u001b[0m\u001b[0m\n\u001b[0;32m      4\u001b[0m     \u001b[0mfiltering_selec\u001b[0m \u001b[1;33m=\u001b[0m \u001b[0mSelectKBest\u001b[0m\u001b[1;33m(\u001b[0m\u001b[0mf_classif\u001b[0m\u001b[1;33m,\u001b[0m \u001b[0mint\u001b[0m\u001b[1;33m(\u001b[0m\u001b[0mx\u001b[0m \u001b[1;33m+\u001b[0m \u001b[1;36m1\u001b[0m\u001b[1;33m)\u001b[0m\u001b[1;33m)\u001b[0m\u001b[1;33m\u001b[0m\u001b[1;33m\u001b[0m\u001b[0m\n\u001b[0;32m      5\u001b[0m     \u001b[0mfiltering_selec\u001b[0m\u001b[1;33m.\u001b[0m\u001b[0mfit\u001b[0m\u001b[1;33m(\u001b[0m\u001b[0mdataNNC_4\u001b[0m\u001b[1;33m[\u001b[0m\u001b[1;36m0\u001b[0m\u001b[1;33m]\u001b[0m\u001b[1;33m,\u001b[0m\u001b[0mdataNNC_4\u001b[0m\u001b[1;33m[\u001b[0m\u001b[1;36m1\u001b[0m\u001b[1;33m]\u001b[0m\u001b[1;33m)\u001b[0m\u001b[1;33m\u001b[0m\u001b[1;33m\u001b[0m\u001b[0m\n",
      "\u001b[1;31mTypeError\u001b[0m: 'int' object is not iterable"
     ]
    }
   ],
   "source": [
    "optimal_number_features=20\n",
    "for x in optimal_number_features: \n",
    "    #Filtering of the standarized data for the optimal number of features\n",
    "    filtering_selec = SelectKBest(f_classif, int(x + 1))\n",
    "    filtering_selec.fit(dataNNC_4[0],dataNNC_4[1])\n",
    "\n",
    "    #Use get_support function to obtain the indexes of the selected features and extract them from the features list\n",
    "    index_features = np.array((filtering_selec.get_support(indices=True)))\n",
    "    print(\"\\nList of selected features when the optimal number of features is:\", int(x+1), \"\\n\")\n",
    "    print(features[index_features])"
   ]
  },
  {
   "cell_type": "code",
   "execution_count": 95,
   "metadata": {},
   "outputs": [
    {
     "name": "stdout",
     "output_type": "stream",
     "text": [
      "\n",
      "List of selected features when the optimal number of features is: 21 \n",
      "\n",
      "['ENSG00000133627' 'ENSG00000162623' 'ENSG00000092330' 'ENSG00000111181'\n",
      " 'ENSG00000174606' 'ENSG00000139908' 'ENSG00000102384' 'ENSG00000203485'\n",
      " 'ENSG00000165526' 'ENSG00000156831' 'ENSG00000171219' 'ENSG00000130147'\n",
      " 'ENSG00000184575' 'ENSG00000100139' 'ENSG00000174574' 'ENSG00000147117'\n",
      " 'ENSG00000144369' 'ENSG00000036549' 'ENSG00000092758' 'ENSG00000183773'\n",
      " 'ENSG00000010361']\n"
     ]
    }
   ],
   "source": [
    "features = np.array(list(data_hum)[:-1])\n",
    "best = min(total_error_NNC_4.mean(axis=0))\n",
    "\n",
    "optimal_number_features = np.where(total_error_NNC_4.mean(axis=0) == min(total_error_NNC_4.mean(axis=0)))\n",
    "x = 20\n",
    "filtering_selec = SelectKBest(f_classif, int(x + 1))\n",
    "filtering_selec.fit(dataNNC_4[0],dataNNC_4[1])\n",
    "\n",
    "#Use get_support function to obtain the indexes of the selected features and extract them from the features list\n",
    "index_features = np.array((filtering_selec.get_support(indices=True)))\n",
    "print(\"\\nList of selected features when the optimal number of features is:\", int(x+1), \"\\n\")\n",
    "print(features[index_features])"
   ]
  },
  {
   "cell_type": "code",
   "execution_count": 96,
   "metadata": {},
   "outputs": [
    {
     "name": "stdout",
     "output_type": "stream",
     "text": [
      "\n",
      "List of selected features when the optimal number of features is: 21 \n",
      "\n",
      "['ENSG00000095397' 'ENSG00000130810' 'ENSG00000166707' 'ENSG00000002933'\n",
      " 'ENSG00000142408' 'ENSG00000069493' 'ENSG00000048462' 'ENSG00000212643'\n",
      " 'ENSG00000140859' 'ENSG00000127952' 'ENSG00000260170' 'ENSG00000080845'\n",
      " 'ENSG00000132017' 'ENSG00000196267' 'ENSG00000188033' 'ENSG00000175221'\n",
      " 'ENSG00000196358' 'ENSG00000163870' 'ENSG00000011052' 'ENSG00000157796'\n",
      " 'ENSG00000183773']\n"
     ]
    }
   ],
   "source": [
    "filtering_selec = SelectKBest(f_classif, int(x + 1))\n",
    "filtering_selec.fit(dataNNC_3[0],dataNNC_3[1])\n",
    "\n",
    "#Use get_support function to obtain the indexes of the selected features and extract them from the features list\n",
    "index_features = np.array((filtering_selec.get_support(indices=True)))\n",
    "print(\"\\nList of selected features when the optimal number of features is:\", int(x+1), \"\\n\")\n",
    "print(features[index_features])"
   ]
  },
  {
   "cell_type": "code",
   "execution_count": 78,
   "metadata": {},
   "outputs": [
    {
     "data": {
      "text/plain": [
       "0.36666666666666675"
      ]
     },
     "execution_count": 78,
     "metadata": {},
     "output_type": "execute_result"
    }
   ],
   "source": [
    "best"
   ]
  },
  {
   "cell_type": "code",
   "execution_count": 79,
   "metadata": {},
   "outputs": [],
   "source": [
    "Array1=pd.DataFrame(filtering_selec.fit_transform(dataNNC_4[0],dataNNC_4[1]))"
   ]
  },
  {
   "cell_type": "code",
   "execution_count": 80,
   "metadata": {},
   "outputs": [],
   "source": [
    "Array3=pd.DataFrame(filtering_selec.fit_transform(dataNNC_4[0],dataNNC_4[1]))"
   ]
  },
  {
   "cell_type": "code",
   "execution_count": 81,
   "metadata": {},
   "outputs": [],
   "source": [
    "X_fil_fin=filtering_selec.fit_transform(dataNNC_4[0],dataNNC_4[1])"
   ]
  },
  {
   "cell_type": "code",
   "execution_count": 84,
   "metadata": {},
   "outputs": [
    {
     "name": "stderr",
     "output_type": "stream",
     "text": [
      "C:\\Users\\USUARIO\\Anaconda3\\lib\\site-packages\\sklearn\\feature_selection\\univariate_selection.py:110: RuntimeWarning: invalid value encountered in true_divide\n",
      "  msw = sswn / float(dfwn)\n"
     ]
    }
   ],
   "source": [
    "Array2=pd.DataFrame(filtering_selec.fit_transform(dataNNC_4[2],dataNNC_4[3]))"
   ]
  },
  {
   "cell_type": "code",
   "execution_count": 85,
   "metadata": {},
   "outputs": [
    {
     "data": {
      "text/plain": [
       "(8, 21)"
      ]
     },
     "execution_count": 85,
     "metadata": {},
     "output_type": "execute_result"
    }
   ],
   "source": [
    "Datafinal=Array1.append(Array2)\n",
    "Datafinal.to_numpy()\n",
    "Datafinal.shape"
   ]
  },
  {
   "cell_type": "code",
   "execution_count": 86,
   "metadata": {},
   "outputs": [
    {
     "data": {
      "text/html": [
       "<div>\n",
       "<style scoped>\n",
       "    .dataframe tbody tr th:only-of-type {\n",
       "        vertical-align: middle;\n",
       "    }\n",
       "\n",
       "    .dataframe tbody tr th {\n",
       "        vertical-align: top;\n",
       "    }\n",
       "\n",
       "    .dataframe thead th {\n",
       "        text-align: right;\n",
       "    }\n",
       "</style>\n",
       "<table border=\"1\" class=\"dataframe\">\n",
       "  <thead>\n",
       "    <tr style=\"text-align: right;\">\n",
       "      <th></th>\n",
       "      <th>0</th>\n",
       "      <th>1</th>\n",
       "      <th>2</th>\n",
       "      <th>3</th>\n",
       "      <th>4</th>\n",
       "      <th>5</th>\n",
       "      <th>6</th>\n",
       "      <th>7</th>\n",
       "      <th>8</th>\n",
       "      <th>9</th>\n",
       "      <th>...</th>\n",
       "      <th>11</th>\n",
       "      <th>12</th>\n",
       "      <th>13</th>\n",
       "      <th>14</th>\n",
       "      <th>15</th>\n",
       "      <th>16</th>\n",
       "      <th>17</th>\n",
       "      <th>18</th>\n",
       "      <th>19</th>\n",
       "      <th>20</th>\n",
       "    </tr>\n",
       "  </thead>\n",
       "  <tbody>\n",
       "    <tr>\n",
       "      <td>0</td>\n",
       "      <td>-0.539756</td>\n",
       "      <td>0.802310</td>\n",
       "      <td>0.761383</td>\n",
       "      <td>-0.733609</td>\n",
       "      <td>0.694492</td>\n",
       "      <td>0.628485</td>\n",
       "      <td>-0.667453</td>\n",
       "      <td>-0.890535</td>\n",
       "      <td>0.643431</td>\n",
       "      <td>0.697422</td>\n",
       "      <td>...</td>\n",
       "      <td>0.577261</td>\n",
       "      <td>-0.654925</td>\n",
       "      <td>0.721528</td>\n",
       "      <td>-0.645760</td>\n",
       "      <td>-0.614978</td>\n",
       "      <td>-0.676275</td>\n",
       "      <td>-0.661165</td>\n",
       "      <td>0.616380</td>\n",
       "      <td>0.431135</td>\n",
       "      <td>-0.638409</td>\n",
       "    </tr>\n",
       "    <tr>\n",
       "      <td>1</td>\n",
       "      <td>-0.612755</td>\n",
       "      <td>0.639169</td>\n",
       "      <td>0.765156</td>\n",
       "      <td>-0.814165</td>\n",
       "      <td>0.804823</td>\n",
       "      <td>0.928065</td>\n",
       "      <td>-0.860813</td>\n",
       "      <td>-0.510834</td>\n",
       "      <td>0.666522</td>\n",
       "      <td>0.839047</td>\n",
       "      <td>...</td>\n",
       "      <td>0.579573</td>\n",
       "      <td>-0.559613</td>\n",
       "      <td>0.843769</td>\n",
       "      <td>-0.827722</td>\n",
       "      <td>-0.586271</td>\n",
       "      <td>-0.633049</td>\n",
       "      <td>-0.639047</td>\n",
       "      <td>0.640975</td>\n",
       "      <td>0.629205</td>\n",
       "      <td>-0.609667</td>\n",
       "    </tr>\n",
       "    <tr>\n",
       "      <td>2</td>\n",
       "      <td>1.113187</td>\n",
       "      <td>-1.361401</td>\n",
       "      <td>-1.496825</td>\n",
       "      <td>1.317075</td>\n",
       "      <td>-1.265244</td>\n",
       "      <td>-1.566153</td>\n",
       "      <td>1.089559</td>\n",
       "      <td>1.453035</td>\n",
       "      <td>-1.364591</td>\n",
       "      <td>-1.384378</td>\n",
       "      <td>...</td>\n",
       "      <td>-1.345541</td>\n",
       "      <td>1.710190</td>\n",
       "      <td>-1.407134</td>\n",
       "      <td>1.287748</td>\n",
       "      <td>1.431552</td>\n",
       "      <td>1.491108</td>\n",
       "      <td>1.345872</td>\n",
       "      <td>-1.258226</td>\n",
       "      <td>-1.641446</td>\n",
       "      <td>1.721360</td>\n",
       "    </tr>\n",
       "    <tr>\n",
       "      <td>3</td>\n",
       "      <td>1.660571</td>\n",
       "      <td>-1.460628</td>\n",
       "      <td>-1.323345</td>\n",
       "      <td>1.500568</td>\n",
       "      <td>-1.521540</td>\n",
       "      <td>-1.230888</td>\n",
       "      <td>1.683335</td>\n",
       "      <td>1.343161</td>\n",
       "      <td>-1.458144</td>\n",
       "      <td>-1.437620</td>\n",
       "      <td>...</td>\n",
       "      <td>-1.464741</td>\n",
       "      <td>1.058632</td>\n",
       "      <td>-1.381572</td>\n",
       "      <td>1.527617</td>\n",
       "      <td>1.377576</td>\n",
       "      <td>1.329808</td>\n",
       "      <td>1.477118</td>\n",
       "      <td>-1.550618</td>\n",
       "      <td>-1.125233</td>\n",
       "      <td>1.044061</td>\n",
       "    </tr>\n",
       "    <tr>\n",
       "      <td>4</td>\n",
       "      <td>-0.916206</td>\n",
       "      <td>0.753330</td>\n",
       "      <td>0.703213</td>\n",
       "      <td>-0.578902</td>\n",
       "      <td>0.393506</td>\n",
       "      <td>0.563797</td>\n",
       "      <td>-0.717718</td>\n",
       "      <td>-0.527362</td>\n",
       "      <td>0.824217</td>\n",
       "      <td>0.647991</td>\n",
       "      <td>...</td>\n",
       "      <td>0.889857</td>\n",
       "      <td>-0.824878</td>\n",
       "      <td>0.866968</td>\n",
       "      <td>-0.724034</td>\n",
       "      <td>-0.942494</td>\n",
       "      <td>-0.693934</td>\n",
       "      <td>-0.731342</td>\n",
       "      <td>0.870926</td>\n",
       "      <td>0.822067</td>\n",
       "      <td>-0.849306</td>\n",
       "    </tr>\n",
       "    <tr>\n",
       "      <td>5</td>\n",
       "      <td>-0.705041</td>\n",
       "      <td>0.627220</td>\n",
       "      <td>0.590418</td>\n",
       "      <td>-0.690967</td>\n",
       "      <td>0.893962</td>\n",
       "      <td>0.676694</td>\n",
       "      <td>-0.526910</td>\n",
       "      <td>-0.867465</td>\n",
       "      <td>0.688564</td>\n",
       "      <td>0.637539</td>\n",
       "      <td>...</td>\n",
       "      <td>0.763592</td>\n",
       "      <td>-0.729406</td>\n",
       "      <td>0.356441</td>\n",
       "      <td>-0.617849</td>\n",
       "      <td>-0.665385</td>\n",
       "      <td>-0.817658</td>\n",
       "      <td>-0.791436</td>\n",
       "      <td>0.680564</td>\n",
       "      <td>0.884272</td>\n",
       "      <td>-0.668040</td>\n",
       "    </tr>\n",
       "    <tr>\n",
       "      <td>0</td>\n",
       "      <td>-0.674653</td>\n",
       "      <td>0.587798</td>\n",
       "      <td>0.467214</td>\n",
       "      <td>2.417400</td>\n",
       "      <td>0.516458</td>\n",
       "      <td>0.089118</td>\n",
       "      <td>0.285365</td>\n",
       "      <td>0.665915</td>\n",
       "      <td>1.291172</td>\n",
       "      <td>0.058173</td>\n",
       "      <td>...</td>\n",
       "      <td>-0.180849</td>\n",
       "      <td>-0.637436</td>\n",
       "      <td>-0.255817</td>\n",
       "      <td>0.684226</td>\n",
       "      <td>-0.560325</td>\n",
       "      <td>-0.544722</td>\n",
       "      <td>-0.568688</td>\n",
       "      <td>0.841457</td>\n",
       "      <td>-0.476490</td>\n",
       "      <td>0.631883</td>\n",
       "    </tr>\n",
       "    <tr>\n",
       "      <td>1</td>\n",
       "      <td>0.439793</td>\n",
       "      <td>0.697285</td>\n",
       "      <td>-0.623710</td>\n",
       "      <td>-31.175918</td>\n",
       "      <td>-1.246655</td>\n",
       "      <td>0.010126</td>\n",
       "      <td>-1.867927</td>\n",
       "      <td>1.485923</td>\n",
       "      <td>-1.352410</td>\n",
       "      <td>-1.248546</td>\n",
       "      <td>...</td>\n",
       "      <td>-0.154760</td>\n",
       "      <td>-0.743330</td>\n",
       "      <td>0.050655</td>\n",
       "      <td>0.134304</td>\n",
       "      <td>-0.520005</td>\n",
       "      <td>-0.230732</td>\n",
       "      <td>-0.647304</td>\n",
       "      <td>1.186052</td>\n",
       "      <td>0.591357</td>\n",
       "      <td>-1.255790</td>\n",
       "    </tr>\n",
       "  </tbody>\n",
       "</table>\n",
       "<p>8 rows × 21 columns</p>\n",
       "</div>"
      ],
      "text/plain": [
       "         0         1         2          3         4         5         6   \\\n",
       "0 -0.539756  0.802310  0.761383  -0.733609  0.694492  0.628485 -0.667453   \n",
       "1 -0.612755  0.639169  0.765156  -0.814165  0.804823  0.928065 -0.860813   \n",
       "2  1.113187 -1.361401 -1.496825   1.317075 -1.265244 -1.566153  1.089559   \n",
       "3  1.660571 -1.460628 -1.323345   1.500568 -1.521540 -1.230888  1.683335   \n",
       "4 -0.916206  0.753330  0.703213  -0.578902  0.393506  0.563797 -0.717718   \n",
       "5 -0.705041  0.627220  0.590418  -0.690967  0.893962  0.676694 -0.526910   \n",
       "0 -0.674653  0.587798  0.467214   2.417400  0.516458  0.089118  0.285365   \n",
       "1  0.439793  0.697285 -0.623710 -31.175918 -1.246655  0.010126 -1.867927   \n",
       "\n",
       "         7         8         9   ...        11        12        13        14  \\\n",
       "0 -0.890535  0.643431  0.697422  ...  0.577261 -0.654925  0.721528 -0.645760   \n",
       "1 -0.510834  0.666522  0.839047  ...  0.579573 -0.559613  0.843769 -0.827722   \n",
       "2  1.453035 -1.364591 -1.384378  ... -1.345541  1.710190 -1.407134  1.287748   \n",
       "3  1.343161 -1.458144 -1.437620  ... -1.464741  1.058632 -1.381572  1.527617   \n",
       "4 -0.527362  0.824217  0.647991  ...  0.889857 -0.824878  0.866968 -0.724034   \n",
       "5 -0.867465  0.688564  0.637539  ...  0.763592 -0.729406  0.356441 -0.617849   \n",
       "0  0.665915  1.291172  0.058173  ... -0.180849 -0.637436 -0.255817  0.684226   \n",
       "1  1.485923 -1.352410 -1.248546  ... -0.154760 -0.743330  0.050655  0.134304   \n",
       "\n",
       "         15        16        17        18        19        20  \n",
       "0 -0.614978 -0.676275 -0.661165  0.616380  0.431135 -0.638409  \n",
       "1 -0.586271 -0.633049 -0.639047  0.640975  0.629205 -0.609667  \n",
       "2  1.431552  1.491108  1.345872 -1.258226 -1.641446  1.721360  \n",
       "3  1.377576  1.329808  1.477118 -1.550618 -1.125233  1.044061  \n",
       "4 -0.942494 -0.693934 -0.731342  0.870926  0.822067 -0.849306  \n",
       "5 -0.665385 -0.817658 -0.791436  0.680564  0.884272 -0.668040  \n",
       "0 -0.560325 -0.544722 -0.568688  0.841457 -0.476490  0.631883  \n",
       "1 -0.520005 -0.230732 -0.647304  1.186052  0.591357 -1.255790  \n",
       "\n",
       "[8 rows x 21 columns]"
      ]
     },
     "execution_count": 86,
     "metadata": {},
     "output_type": "execute_result"
    }
   ],
   "source": [
    "Datafinal"
   ]
  },
  {
   "cell_type": "code",
   "execution_count": 87,
   "metadata": {},
   "outputs": [],
   "source": [
    "%matplotlib inline\n",
    "import matplotlib.pyplot as plt\n",
    "import seaborn as sns; sns.set()\n",
    "import numpy as np\n",
    "import pandas as pd\n",
    "from sklearn.datasets.samples_generator import make_blobs\n",
    "# sklearn includes kmeans algorithm\n",
    "from sklearn.cluster import KMeans\n",
    "from sklearn.decomposition import PCA\n",
    "import sklearn\n",
    "import matplotlib.pyplot as plt\n",
    "import pandas as pd\n",
    "import seaborn as sns\n",
    "from sklearn.mixture import GaussianMixture as GMM"
   ]
  },
  {
   "cell_type": "code",
   "execution_count": 88,
   "metadata": {},
   "outputs": [
    {
     "name": "stdout",
     "output_type": "stream",
     "text": [
      "The center corrdinates for the green cluster are X= 1.386878666389702 Y= -1.4110149561639984\n",
      "The center corrdinates for the brown cluster are X= -0.6934393331948513 Y= 0.7055074780819992\n"
     ]
    },
    {
     "data": {
      "image/png": "[encoded data removed]",
      "text/plain": [
       "<Figure size 432x288 with 1 Axes>"
      ]
     },
     "metadata": {},
     "output_type": "display_data"
    }
   ],
   "source": [
    "# perform k-means clustering\n",
    "# 2 clusters are selected as there are 2 labels in our data\n",
    "kmeans = KMeans(n_clusters=2)\n",
    "\n",
    "# estimate model parameters with the EM algorithm \n",
    "kmeans.fit(X_fil_fin)\n",
    "\n",
    "# predict the closest cluster each sample in wdbc_data belongs to\n",
    "y_kmeans = kmeans.predict(X_fil_fin)\n",
    "\n",
    "# plot the original data and the predicted clusters\n",
    "plt.scatter(X_fil_fin[:, 0], X_fil_fin[:, 1], c=y_kmeans, s=50, cmap='Dark2')\n",
    "\n",
    "# plot the cluster centers\n",
    "centers = kmeans.cluster_centers_\n",
    "plt.scatter(centers[:, 0], centers[:, 1], c='red', s=20, alpha=0.5);\n",
    "\n",
    "#print(centers[:, 0], centers[:, 1])\n",
    "print(\"The center corrdinates for the green cluster are X=\",centers[:, 0][0],\"Y=\",centers[:, 1][0])\n",
    "print(\"The center corrdinates for the brown cluster are X=\",centers[:, 0][1],\"Y=\",centers[:, 1][1])"
   ]
  },
  {
   "cell_type": "code",
   "execution_count": 89,
   "metadata": {},
   "outputs": [
    {
     "data": {
      "text/plain": [
       "array([1, 1, 0, 0, 1, 1])"
      ]
     },
     "execution_count": 89,
     "metadata": {},
     "output_type": "execute_result"
    }
   ],
   "source": [
    "y_kmeans"
   ]
  },
  {
   "cell_type": "code",
   "execution_count": 90,
   "metadata": {},
   "outputs": [
    {
     "data": {
      "image/png": "[encoded data removed]",
      "text/plain": [
       "<Figure size 432x288 with 1 Axes>"
      ]
     },
     "metadata": {},
     "output_type": "display_data"
    }
   ],
   "source": [
    "# perform GMM for clustering\n",
    "# two gaussian functions as we have two original data labels\n",
    "gmm = GMM(n_components=2).fit(X_fil_fin)\n",
    "\n",
    "# predict the labels for the data samples in X using trained model\n",
    "labels = gmm.predict(X_fil_fin)\n",
    "plt.scatter(X_fil_fin[:, 0], X_fil_fin[:, 1], c=labels, s=40, cmap='Dark2');"
   ]
  },
  {
   "cell_type": "code",
   "execution_count": 91,
   "metadata": {},
   "outputs": [
    {
     "data": {
      "text/plain": [
       "array([0, 0, 1, 1, 0, 0], dtype=int64)"
      ]
     },
     "execution_count": 91,
     "metadata": {},
     "output_type": "execute_result"
    }
   ],
   "source": [
    "labels"
   ]
  },
  {
   "cell_type": "code",
   "execution_count": 92,
   "metadata": {},
   "outputs": [
    {
     "data": {
      "text/plain": [
       "array([1, 1, 0, 0, 1, 1])"
      ]
     },
     "execution_count": 92,
     "metadata": {},
     "output_type": "execute_result"
    }
   ],
   "source": [
    "dataNNC_4[1]"
   ]
  },
  {
   "cell_type": "code",
   "execution_count": 93,
   "metadata": {},
   "outputs": [
    {
     "ename": "TypeError",
     "evalue": "'(slice(None, None, None), 0)' is an invalid key",
     "output_type": "error",
     "traceback": [
      "\u001b[1;31m---------------------------------------------------------------------------\u001b[0m",
      "\u001b[1;31mTypeError\u001b[0m                                 Traceback (most recent call last)",
      "\u001b[1;32m<ipython-input-93-424664421230>\u001b[0m in \u001b[0;36m<module>\u001b[1;34m\u001b[0m\n\u001b[0;32m     10\u001b[0m \u001b[1;33m\u001b[0m\u001b[0m\n\u001b[0;32m     11\u001b[0m \u001b[1;31m# plot the original data and the predicted clusters\u001b[0m\u001b[1;33m\u001b[0m\u001b[1;33m\u001b[0m\u001b[1;33m\u001b[0m\u001b[0m\n\u001b[1;32m---> 12\u001b[1;33m \u001b[0mplt\u001b[0m\u001b[1;33m.\u001b[0m\u001b[0mscatter\u001b[0m\u001b[1;33m(\u001b[0m\u001b[0mDatafinal\u001b[0m\u001b[1;33m[\u001b[0m\u001b[1;33m:\u001b[0m\u001b[1;33m,\u001b[0m \u001b[1;36m0\u001b[0m\u001b[1;33m]\u001b[0m\u001b[1;33m,\u001b[0m \u001b[0mDatafinal\u001b[0m\u001b[1;33m[\u001b[0m\u001b[1;33m:\u001b[0m\u001b[1;33m,\u001b[0m \u001b[1;36m1\u001b[0m\u001b[1;33m]\u001b[0m\u001b[1;33m,\u001b[0m \u001b[0mc\u001b[0m\u001b[1;33m=\u001b[0m\u001b[0my_kmeans\u001b[0m\u001b[1;33m,\u001b[0m \u001b[0ms\u001b[0m\u001b[1;33m=\u001b[0m\u001b[1;36m50\u001b[0m\u001b[1;33m,\u001b[0m \u001b[0mcmap\u001b[0m\u001b[1;33m=\u001b[0m\u001b[1;34m'Dark2'\u001b[0m\u001b[1;33m)\u001b[0m\u001b[1;33m\u001b[0m\u001b[1;33m\u001b[0m\u001b[0m\n\u001b[0m\u001b[0;32m     13\u001b[0m \u001b[1;33m\u001b[0m\u001b[0m\n\u001b[0;32m     14\u001b[0m \u001b[1;31m# plot the cluster centers\u001b[0m\u001b[1;33m\u001b[0m\u001b[1;33m\u001b[0m\u001b[1;33m\u001b[0m\u001b[0m\n",
      "\u001b[1;32m~\\Anaconda3\\lib\\site-packages\\pandas\\core\\frame.py\u001b[0m in \u001b[0;36m__getitem__\u001b[1;34m(self, key)\u001b[0m\n\u001b[0;32m   2978\u001b[0m             \u001b[1;32mif\u001b[0m \u001b[0mself\u001b[0m\u001b[1;33m.\u001b[0m\u001b[0mcolumns\u001b[0m\u001b[1;33m.\u001b[0m\u001b[0mnlevels\u001b[0m \u001b[1;33m>\u001b[0m \u001b[1;36m1\u001b[0m\u001b[1;33m:\u001b[0m\u001b[1;33m\u001b[0m\u001b[1;33m\u001b[0m\u001b[0m\n\u001b[0;32m   2979\u001b[0m                 \u001b[1;32mreturn\u001b[0m \u001b[0mself\u001b[0m\u001b[1;33m.\u001b[0m\u001b[0m_getitem_multilevel\u001b[0m\u001b[1;33m(\u001b[0m\u001b[0mkey\u001b[0m\u001b[1;33m)\u001b[0m\u001b[1;33m\u001b[0m\u001b[1;33m\u001b[0m\u001b[0m\n\u001b[1;32m-> 2980\u001b[1;33m             \u001b[0mindexer\u001b[0m \u001b[1;33m=\u001b[0m \u001b[0mself\u001b[0m\u001b[1;33m.\u001b[0m\u001b[0mcolumns\u001b[0m\u001b[1;33m.\u001b[0m\u001b[0mget_loc\u001b[0m\u001b[1;33m(\u001b[0m\u001b[0mkey\u001b[0m\u001b[1;33m)\u001b[0m\u001b[1;33m\u001b[0m\u001b[1;33m\u001b[0m\u001b[0m\n\u001b[0m\u001b[0;32m   2981\u001b[0m             \u001b[1;32mif\u001b[0m \u001b[0mis_integer\u001b[0m\u001b[1;33m(\u001b[0m\u001b[0mindexer\u001b[0m\u001b[1;33m)\u001b[0m\u001b[1;33m:\u001b[0m\u001b[1;33m\u001b[0m\u001b[1;33m\u001b[0m\u001b[0m\n\u001b[0;32m   2982\u001b[0m                 \u001b[0mindexer\u001b[0m \u001b[1;33m=\u001b[0m \u001b[1;33m[\u001b[0m\u001b[0mindexer\u001b[0m\u001b[1;33m]\u001b[0m\u001b[1;33m\u001b[0m\u001b[1;33m\u001b[0m\u001b[0m\n",
      "\u001b[1;32m~\\Anaconda3\\lib\\site-packages\\pandas\\core\\indexes\\range.py\u001b[0m in \u001b[0;36mget_loc\u001b[1;34m(self, key, method, tolerance)\u001b[0m\n\u001b[0;32m    377\u001b[0m             \u001b[1;32mexcept\u001b[0m \u001b[0mValueError\u001b[0m\u001b[1;33m:\u001b[0m\u001b[1;33m\u001b[0m\u001b[1;33m\u001b[0m\u001b[0m\n\u001b[0;32m    378\u001b[0m                 \u001b[1;32mraise\u001b[0m \u001b[0mKeyError\u001b[0m\u001b[1;33m(\u001b[0m\u001b[0mkey\u001b[0m\u001b[1;33m)\u001b[0m\u001b[1;33m\u001b[0m\u001b[1;33m\u001b[0m\u001b[0m\n\u001b[1;32m--> 379\u001b[1;33m         \u001b[1;32mreturn\u001b[0m \u001b[0msuper\u001b[0m\u001b[1;33m(\u001b[0m\u001b[1;33m)\u001b[0m\u001b[1;33m.\u001b[0m\u001b[0mget_loc\u001b[0m\u001b[1;33m(\u001b[0m\u001b[0mkey\u001b[0m\u001b[1;33m,\u001b[0m \u001b[0mmethod\u001b[0m\u001b[1;33m=\u001b[0m\u001b[0mmethod\u001b[0m\u001b[1;33m,\u001b[0m \u001b[0mtolerance\u001b[0m\u001b[1;33m=\u001b[0m\u001b[0mtolerance\u001b[0m\u001b[1;33m)\u001b[0m\u001b[1;33m\u001b[0m\u001b[1;33m\u001b[0m\u001b[0m\n\u001b[0m\u001b[0;32m    380\u001b[0m \u001b[1;33m\u001b[0m\u001b[0m\n\u001b[0;32m    381\u001b[0m     \u001b[1;33m@\u001b[0m\u001b[0mAppender\u001b[0m\u001b[1;33m(\u001b[0m\u001b[0m_index_shared_docs\u001b[0m\u001b[1;33m[\u001b[0m\u001b[1;34m\"get_indexer\"\u001b[0m\u001b[1;33m]\u001b[0m\u001b[1;33m)\u001b[0m\u001b[1;33m\u001b[0m\u001b[1;33m\u001b[0m\u001b[0m\n",
      "\u001b[1;32m~\\Anaconda3\\lib\\site-packages\\pandas\\core\\indexes\\base.py\u001b[0m in \u001b[0;36mget_loc\u001b[1;34m(self, key, method, tolerance)\u001b[0m\n\u001b[0;32m   2895\u001b[0m                 )\n\u001b[0;32m   2896\u001b[0m             \u001b[1;32mtry\u001b[0m\u001b[1;33m:\u001b[0m\u001b[1;33m\u001b[0m\u001b[1;33m\u001b[0m\u001b[0m\n\u001b[1;32m-> 2897\u001b[1;33m                 \u001b[1;32mreturn\u001b[0m \u001b[0mself\u001b[0m\u001b[1;33m.\u001b[0m\u001b[0m_engine\u001b[0m\u001b[1;33m.\u001b[0m\u001b[0mget_loc\u001b[0m\u001b[1;33m(\u001b[0m\u001b[0mkey\u001b[0m\u001b[1;33m)\u001b[0m\u001b[1;33m\u001b[0m\u001b[1;33m\u001b[0m\u001b[0m\n\u001b[0m\u001b[0;32m   2898\u001b[0m             \u001b[1;32mexcept\u001b[0m \u001b[0mKeyError\u001b[0m\u001b[1;33m:\u001b[0m\u001b[1;33m\u001b[0m\u001b[1;33m\u001b[0m\u001b[0m\n\u001b[0;32m   2899\u001b[0m                 \u001b[1;32mreturn\u001b[0m \u001b[0mself\u001b[0m\u001b[1;33m.\u001b[0m\u001b[0m_engine\u001b[0m\u001b[1;33m.\u001b[0m\u001b[0mget_loc\u001b[0m\u001b[1;33m(\u001b[0m\u001b[0mself\u001b[0m\u001b[1;33m.\u001b[0m\u001b[0m_maybe_cast_indexer\u001b[0m\u001b[1;33m(\u001b[0m\u001b[0mkey\u001b[0m\u001b[1;33m)\u001b[0m\u001b[1;33m)\u001b[0m\u001b[1;33m\u001b[0m\u001b[1;33m\u001b[0m\u001b[0m\n",
      "\u001b[1;32mpandas\\_libs\\index.pyx\u001b[0m in \u001b[0;36mpandas._libs.index.IndexEngine.get_loc\u001b[1;34m()\u001b[0m\n",
      "\u001b[1;32mpandas\\_libs\\index.pyx\u001b[0m in \u001b[0;36mpandas._libs.index.IndexEngine.get_loc\u001b[1;34m()\u001b[0m\n",
      "\u001b[1;31mTypeError\u001b[0m: '(slice(None, None, None), 0)' is an invalid key"
     ]
    }
   ],
   "source": [
    "# perform k-means clustering\n",
    "# 2 clusters are selected as there are 2 labels in our data\n",
    "kmeans = KMeans(n_clusters=2)\n",
    "\n",
    "# estimate model parameters with the EM algorithm \n",
    "kmeans.fit(Datafinal)\n",
    "\n",
    "# predict the closest cluster each sample in wdbc_data belongs to\n",
    "y_kmeans = kmeans.predict(Datafinal)\n",
    "\n",
    "# plot the original data and the predicted clusters\n",
    "plt.scatter(Datafinal[:, 0], Datafinal[:, 1], c=y_kmeans, s=50, cmap='Dark2')\n",
    "\n",
    "# plot the cluster centers\n",
    "centers = kmeans.cluster_centers_\n",
    "plt.scatter(centers[:, 0], centers[:, 1], c='red', s=20, alpha=0.5);\n",
    "\n",
    "#print(centers[:, 0], centers[:, 1])\n",
    "print(\"The center corrdinates for the green cluster are X=\",centers[:, 0][0],\"Y=\",centers[:, 1][0])\n",
    "print(\"The center corrdinates for the brown cluster are X=\",centers[:, 0][1],\"Y=\",centers[:, 1][1])"
   ]
  },
  {
   "cell_type": "code",
   "execution_count": null,
   "metadata": {},
   "outputs": [],
   "source": []
  }
 ],
 "metadata": {
  "kernelspec": {
   "display_name": "anaconda-2022.05-py39",
   "language": "python",
   "name": "conda-env-anaconda-2022.05-py39-py"
  },
  "language_info": {
   "codemirror_mode": {
    "name": "ipython",
    "version": 3
   },
   "file_extension": ".py",
   "mimetype": "text/x-python",
   "name": "python",
   "nbconvert_exporter": "python",
   "pygments_lexer": "ipython3",
   "version": "3.9.12"
  }
 },
 "nbformat": 4,
 "nbformat_minor": 4
}
