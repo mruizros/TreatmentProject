{
 "cells": [
  {
   "cell_type": "markdown",
   "metadata": {},
   "source": [
    "# Clustering\n"
   ]
  },
  {
   "cell_type": "markdown",
   "metadata": {},
   "source": [
    "The objective of this project is to perform clustering of metasNim data"
   ]
  },
  {
   "cell_type": "code",
   "execution_count": 5,
   "metadata": {},
   "outputs": [],
   "source": [
    "%matplotlib inline\n",
    "import matplotlib.pyplot as plt\n",
    "import seaborn as sns; sns.set()\n",
    "import numpy as np\n",
    "import pandas as pd\n",
    "from sklearn.datasets.samples_generator import make_blobs\n",
    "# sklearn includes kmeans algorithm\n",
    "from sklearn.cluster import KMeans\n",
    "from sklearn.decomposition import PCA\n",
    "import sklearn\n",
    "import matplotlib.pyplot as plt\n",
    "import pandas as pd\n",
    "import seaborn as sns\n",
    "from sklearn.mixture import GaussianMixture as GMM"
   ]
  },
  {
   "cell_type": "code",
   "execution_count": 3,
   "metadata": {},
   "outputs": [
    {
     "data": {
      "text/html": [
       "<div>\n",
       "<style scoped>\n",
       "    .dataframe tbody tr th:only-of-type {\n",
       "        vertical-align: middle;\n",
       "    }\n",
       "\n",
       "    .dataframe tbody tr th {\n",
       "        vertical-align: top;\n",
       "    }\n",
       "\n",
       "    .dataframe thead th {\n",
       "        text-align: right;\n",
       "    }\n",
       "</style>\n",
       "<table border=\"1\" class=\"dataframe\">\n",
       "  <thead>\n",
       "    <tr style=\"text-align: right;\">\n",
       "      <th></th>\n",
       "      <th>0</th>\n",
       "      <th>1</th>\n",
       "      <th>2</th>\n",
       "      <th>3</th>\n",
       "      <th>4</th>\n",
       "      <th>5</th>\n",
       "      <th>6</th>\n",
       "      <th>7</th>\n",
       "      <th>8</th>\n",
       "      <th>9</th>\n",
       "      <th>...</th>\n",
       "      <th>23803</th>\n",
       "      <th>23804</th>\n",
       "      <th>23805</th>\n",
       "      <th>23806</th>\n",
       "      <th>23807</th>\n",
       "      <th>23808</th>\n",
       "      <th>23809</th>\n",
       "      <th>23810</th>\n",
       "      <th>23811</th>\n",
       "      <th>23812</th>\n",
       "    </tr>\n",
       "  </thead>\n",
       "  <tbody>\n",
       "    <tr>\n",
       "      <th>0</th>\n",
       "      <td>NaN</td>\n",
       "      <td>ENSG00000000003</td>\n",
       "      <td>ENSG00000000005</td>\n",
       "      <td>ENSG00000000419</td>\n",
       "      <td>ENSG00000000457</td>\n",
       "      <td>ENSG00000000460</td>\n",
       "      <td>ENSG00000000938</td>\n",
       "      <td>ENSG00000000971</td>\n",
       "      <td>ENSG00000001036</td>\n",
       "      <td>ENSG00000001084</td>\n",
       "      <td>...</td>\n",
       "      <td>ENSG00000288064</td>\n",
       "      <td>ENSG00000288108</td>\n",
       "      <td>ENSG00000288436</td>\n",
       "      <td>ENSG00000288473</td>\n",
       "      <td>ENSG00000288533</td>\n",
       "      <td>ENSG00000288547</td>\n",
       "      <td>ENSG00000288564</td>\n",
       "      <td>ENSG00000288587</td>\n",
       "      <td>Id</td>\n",
       "      <td>Condition</td>\n",
       "    </tr>\n",
       "    <tr>\n",
       "      <th>1</th>\n",
       "      <td>19ID00558</td>\n",
       "      <td>0</td>\n",
       "      <td>0</td>\n",
       "      <td>0</td>\n",
       "      <td>2362</td>\n",
       "      <td>2557</td>\n",
       "      <td>1154</td>\n",
       "      <td>7446</td>\n",
       "      <td>0</td>\n",
       "      <td>0</td>\n",
       "      <td>...</td>\n",
       "      <td>10</td>\n",
       "      <td>0</td>\n",
       "      <td>419</td>\n",
       "      <td>0</td>\n",
       "      <td>0</td>\n",
       "      <td>350</td>\n",
       "      <td>0</td>\n",
       "      <td>0</td>\n",
       "      <td>19ID00558</td>\n",
       "      <td>0</td>\n",
       "    </tr>\n",
       "    <tr>\n",
       "      <th>2</th>\n",
       "      <td>19ID00559</td>\n",
       "      <td>0</td>\n",
       "      <td>0</td>\n",
       "      <td>0</td>\n",
       "      <td>1994</td>\n",
       "      <td>1874</td>\n",
       "      <td>753</td>\n",
       "      <td>6977</td>\n",
       "      <td>0</td>\n",
       "      <td>0</td>\n",
       "      <td>...</td>\n",
       "      <td>12</td>\n",
       "      <td>121</td>\n",
       "      <td>306</td>\n",
       "      <td>0</td>\n",
       "      <td>0</td>\n",
       "      <td>225</td>\n",
       "      <td>0</td>\n",
       "      <td>0</td>\n",
       "      <td>19ID00559</td>\n",
       "      <td>0</td>\n",
       "    </tr>\n",
       "    <tr>\n",
       "      <th>3</th>\n",
       "      <td>19ID00560</td>\n",
       "      <td>0</td>\n",
       "      <td>0</td>\n",
       "      <td>0</td>\n",
       "      <td>2380</td>\n",
       "      <td>2084</td>\n",
       "      <td>1095</td>\n",
       "      <td>9058</td>\n",
       "      <td>0</td>\n",
       "      <td>0</td>\n",
       "      <td>...</td>\n",
       "      <td>9</td>\n",
       "      <td>0</td>\n",
       "      <td>361</td>\n",
       "      <td>0</td>\n",
       "      <td>0</td>\n",
       "      <td>372</td>\n",
       "      <td>0</td>\n",
       "      <td>0</td>\n",
       "      <td>19ID00560</td>\n",
       "      <td>0</td>\n",
       "    </tr>\n",
       "    <tr>\n",
       "      <th>4</th>\n",
       "      <td>19ID00561</td>\n",
       "      <td>0</td>\n",
       "      <td>0</td>\n",
       "      <td>0</td>\n",
       "      <td>2674</td>\n",
       "      <td>2797</td>\n",
       "      <td>1092</td>\n",
       "      <td>8902</td>\n",
       "      <td>0</td>\n",
       "      <td>0</td>\n",
       "      <td>...</td>\n",
       "      <td>14</td>\n",
       "      <td>0</td>\n",
       "      <td>388</td>\n",
       "      <td>0</td>\n",
       "      <td>0</td>\n",
       "      <td>325</td>\n",
       "      <td>0</td>\n",
       "      <td>0</td>\n",
       "      <td>19ID00561</td>\n",
       "      <td>0</td>\n",
       "    </tr>\n",
       "  </tbody>\n",
       "</table>\n",
       "<p>5 rows × 23813 columns</p>\n",
       "</div>"
      ],
      "text/plain": [
       "       0                1                2                3      \\\n",
       "0        NaN  ENSG00000000003  ENSG00000000005  ENSG00000000419   \n",
       "1  19ID00558                0                0                0   \n",
       "2  19ID00559                0                0                0   \n",
       "3  19ID00560                0                0                0   \n",
       "4  19ID00561                0                0                0   \n",
       "\n",
       "             4                5                6                7      \\\n",
       "0  ENSG00000000457  ENSG00000000460  ENSG00000000938  ENSG00000000971   \n",
       "1             2362             2557             1154             7446   \n",
       "2             1994             1874              753             6977   \n",
       "3             2380             2084             1095             9058   \n",
       "4             2674             2797             1092             8902   \n",
       "\n",
       "             8                9      ...            23803            23804  \\\n",
       "0  ENSG00000001036  ENSG00000001084  ...  ENSG00000288064  ENSG00000288108   \n",
       "1                0                0  ...               10                0   \n",
       "2                0                0  ...               12              121   \n",
       "3                0                0  ...                9                0   \n",
       "4                0                0  ...               14                0   \n",
       "\n",
       "             23805            23806            23807            23808  \\\n",
       "0  ENSG00000288436  ENSG00000288473  ENSG00000288533  ENSG00000288547   \n",
       "1              419                0                0              350   \n",
       "2              306                0                0              225   \n",
       "3              361                0                0              372   \n",
       "4              388                0                0              325   \n",
       "\n",
       "             23809            23810      23811      23812  \n",
       "0  ENSG00000288564  ENSG00000288587         Id  Condition  \n",
       "1                0                0  19ID00558          0  \n",
       "2                0                0  19ID00559          0  \n",
       "3                0                0  19ID00560          0  \n",
       "4                0                0  19ID00561          0  \n",
       "\n",
       "[5 rows x 23813 columns]"
      ]
     },
     "execution_count": 3,
     "metadata": {},
     "output_type": "execute_result"
    }
   ],
   "source": [
    "#read the wdbc.csv\n",
    "wdbc = pd.read_csv('./wdbc.csv',header=None)\n",
    "wdbc.head(5)"
   ]
  },
  {
   "cell_type": "code",
   "execution_count": 9,
   "metadata": {},
   "outputs": [
    {
     "data": {
      "text/plain": [
       "(24, 23813)"
      ]
     },
     "execution_count": 9,
     "metadata": {},
     "output_type": "execute_result"
    }
   ],
   "source": [
    "wdbc.shape"
   ]
  },
  {
   "cell_type": "markdown",
   "metadata": {},
   "source": [
    "<font color='black'>b) Perform a PCA analysis over the data\n",
    "\n",
    "</font> "
   ]
  },
  {
   "cell_type": "code",
   "execution_count": 25,
   "metadata": {},
   "outputs": [
    {
     "name": "stdout",
     "output_type": "stream",
     "text": [
      "Number of components: 20     Variance: 0.9921208893148308\n"
     ]
    }
   ],
   "source": [
    "import pandas as pd\n",
    "# convert the data to type float and drop the label col(B/M)\n",
    "df_wdbc = wdbc.values[1:, 2:-2].astype(np.float)\n",
    "\n",
    "# standardize the data before performing PCA\n",
    "df_wdbc_std = sklearn.preprocessing.StandardScaler().fit_transform(df_wdbc)\n",
    "\n",
    "#Get the number of components in the data\n",
    "n_components=df_wdbc_std.shape[0]\n",
    "wdbc_pca = PCA(n_components=n_components)\n",
    "\n",
    "# project the data into this new PCA space\n",
    "wdbc_pca.fit(df_wdbc_std )\n",
    "df_wdbc_pca = wdbc_pca.transform(df_wdbc_std)\n",
    "\n",
    "#To get the nubmer of components required to maintain 99% variance\n",
    "#store the variance of all the components in the object var\n",
    "var = np.cumsum(wdbc_pca.explained_variance_ratio_)\n",
    "\n",
    "#initialize the counter \n",
    "counter = 1\n",
    "for item in var:\n",
    "    if item <= 0.99:\n",
    "        counter = counter + 1\n",
    "    else:\n",
    "        break\n",
    "        \n",
    "print(\"Number of components:\", counter, \"    Variance:\", var[counter-1])"
   ]
  },
  {
   "cell_type": "code",
   "execution_count": 12,
   "metadata": {},
   "outputs": [],
   "source": [
    "df_wdbc = wdbc.values[1:, 2:-2].astype(np.float)"
   ]
  },
  {
   "cell_type": "code",
   "execution_count": 15,
   "metadata": {},
   "outputs": [],
   "source": [
    "# standardize the data before performing PCA\n",
    "df_wdbc_std = sklearn.preprocessing.StandardScaler().fit_transform(df_wdbc)\n",
    "\n",
    "#Get the number of components in the data\n",
    "n_components=df_wdbc_std.shape[1]\n",
    "wdbc_pca = PCA(n_components=n_components)"
   ]
  },
  {
   "cell_type": "code",
   "execution_count": 24,
   "metadata": {},
   "outputs": [
    {
     "data": {
      "text/plain": [
       "23"
      ]
     },
     "execution_count": 24,
     "metadata": {},
     "output_type": "execute_result"
    }
   ],
   "source": [
    "df_wdbc_std.shape[0]\n"
   ]
  },
  {
   "cell_type": "markdown",
   "metadata": {},
   "source": [
    "<font color='black'>c) Project the data into the PC space\n",
    "\n",
    "</font> \n",
    "\n"
   ]
  },
  {
   "cell_type": "code",
   "execution_count": 26,
   "metadata": {},
   "outputs": [
    {
     "data": {
      "image/png": "[encoded data removed]",
      "text/plain": [
       "<Figure size 432x288 with 1 Axes>"
      ]
     },
     "metadata": {},
     "output_type": "display_data"
    }
   ],
   "source": [
    "# define the number of components of the PCA domain\n",
    "n_components=counter\n",
    "#For all the data\n",
    "#n_components=df_wdbc_std.shape[1]\n",
    "wdbc_pca = PCA(n_components=n_components)\n",
    "\n",
    "# project the data into this new PCA space\n",
    "wdbc_pca.fit(df_wdbc_std )\n",
    "df_wdbc_pca = wdbc_pca.transform(df_wdbc_std)\n",
    "\n",
    "# convert dataframe to array\n",
    "wdbc_data=np.array(df_wdbc_pca)\n",
    "#print(wdbc_data)\n",
    "\n",
    "# plot first 17 (from the counter value) PC without labels\n",
    "plt.scatter(wdbc_data[:, 0], wdbc_data[:, 1], s=50, cmap='viridis');"
   ]
  },
  {
   "cell_type": "markdown",
   "metadata": {},
   "source": [
    "<font color='black'>d) Apply both k-means and GMM over the projected data; \n",
    "\n",
    "</font> \n"
   ]
  },
  {
   "cell_type": "code",
   "execution_count": 33,
   "metadata": {},
   "outputs": [
    {
     "name": "stdout",
     "output_type": "stream",
     "text": [
      "The center corrdinates for the green cluster are X= -18.490989458210763 Y= -5.546103730472867\n",
      "The center corrdinates for the brown cluster are X= 123.27326305473849 Y= 36.97402486981908\n"
     ]
    },
    {
     "data": {
      "image/png": "[encoded data removed]",
      "text/plain": [
       "<Figure size 432x288 with 1 Axes>"
      ]
     },
     "metadata": {},
     "output_type": "display_data"
    }
   ],
   "source": [
    "# perform k-means clustering\n",
    "# 2 clusters are selected as there are 2 labels in our data\n",
    "kmeans = KMeans(n_clusters=2)\n",
    "\n",
    "# estimate model parameters with the EM algorithm \n",
    "kmeans.fit(wdbc_data)\n",
    "\n",
    "# predict the closest cluster each sample in wdbc_data belongs to\n",
    "y_kmeans = kmeans.predict(wdbc_data)\n",
    "\n",
    "# plot the original data and the predicted clusters\n",
    "plt.scatter(wdbc_data[:, 0], wdbc_data[:, 1], c=y_kmeans, s=50, cmap='Dark2')\n",
    "\n",
    "# plot the cluster centers\n",
    "centers = kmeans.cluster_centers_\n",
    "plt.scatter(centers[:, 0], centers[:, 1], c='red', s=20, alpha=0.5);\n",
    "\n",
    "#print(centers[:, 0], centers[:, 1])\n",
    "print(\"The center corrdinates for the green cluster are X=\",centers[:, 0][0],\"Y=\",centers[:, 1][0])\n",
    "print(\"The center corrdinates for the brown cluster are X=\",centers[:, 0][1],\"Y=\",centers[:, 1][1])"
   ]
  },
  {
   "cell_type": "code",
   "execution_count": 38,
   "metadata": {},
   "outputs": [
    {
     "data": {
      "image/png": "[encoded data removed]",
      "text/plain": [
       "<Figure size 432x288 with 1 Axes>"
      ]
     },
     "metadata": {},
     "output_type": "display_data"
    }
   ],
   "source": [
    "# perform GMM for clustering\n",
    "# two gaussian functions as we have two original data labels\n",
    "gmm = GMM(n_components=2).fit(wdbc_data)\n",
    "\n",
    "# predict the labels for the data samples in X using trained model\n",
    "labels = gmm.predict(wdbc_data)\n",
    "plt.scatter(wdbc_data[:, 0], wdbc_data[:, 1], c=labels, s=40, cmap='Dark2');"
   ]
  },
  {
   "cell_type": "code",
   "execution_count": 39,
   "metadata": {},
   "outputs": [
    {
     "data": {
      "text/plain": [
       "array([0, 1, 0, 0, 1, 0, 1, 0, 0, 1, 0, 0, 0, 0, 1, 0, 0, 0, 0, 0, 0, 0,\n",
       "       0], dtype=int64)"
      ]
     },
     "execution_count": 39,
     "metadata": {},
     "output_type": "execute_result"
    }
   ],
   "source": [
    "labels"
   ]
  },
  {
   "cell_type": "code",
   "execution_count": 30,
   "metadata": {},
   "outputs": [
    {
     "data": {
      "text/plain": [
       "array([[ 1.52505674e+01, -3.16809313e+01,  2.68584456e+01,\n",
       "         2.36585149e+01,  1.57822474e+01,  3.97435981e+00,\n",
       "         3.81045682e+01, -5.07889392e+00, -3.65638081e+00,\n",
       "        -4.07806156e-01, -4.46416915e+00,  2.19966956e+01,\n",
       "        -2.23756605e+00,  1.08147240e+01,  3.88701073e+00,\n",
       "         6.47914601e+00, -7.60020409e+00,  1.00130481e+01,\n",
       "        -1.83880695e+00, -8.65566996e+00],\n",
       "       [ 5.35363391e+01, -3.76610950e+01, -2.56691332e+01,\n",
       "         1.17108713e+01,  1.53468402e+01, -8.23983525e+00,\n",
       "         3.19850664e+01, -3.60593476e+00, -1.85383086e+01,\n",
       "        -3.70948033e+00, -5.70855155e+00, -8.37620638e+00,\n",
       "         2.56445544e+00, -1.89628499e+01, -5.33025475e+00,\n",
       "        -9.12564007e+00, -1.00498142e+01, -8.59482608e+00,\n",
       "        -6.00961509e+00, -2.22547528e-01],\n",
       "       [ 2.10123760e+00, -2.35170873e+01, -9.39369863e+00,\n",
       "        -2.19639368e+01,  2.12611089e+01, -4.63917784e+00,\n",
       "        -3.72727970e+00,  5.29775864e+00, -5.06119597e+00,\n",
       "         8.88951478e-01, -4.39767688e+00, -3.59096163e+00,\n",
       "         5.12328320e+00, -6.25723085e+00,  1.49426150e+01,\n",
       "        -2.89179963e+00,  1.74625200e+01,  2.59195824e+00,\n",
       "         1.56065804e+00, -1.75113642e+01],\n",
       "       [-1.03559269e+01, -2.51743601e+01,  2.28215642e+01,\n",
       "        -2.00300883e+01,  3.66753079e+01,  1.20451412e+01,\n",
       "         4.01605626e+00,  2.82435227e+01, -1.73528953e+00,\n",
       "        -3.53334538e+00,  6.02946095e-01,  2.16465000e+00,\n",
       "        -1.03073840e+01, -7.99127155e+00,  4.42689058e+00,\n",
       "        -1.16276985e+00,  6.21246383e+00,  9.57185327e+00,\n",
       "         5.95454707e-01,  1.92270323e+01],\n",
       "       [ 1.61313214e+02,  1.11849106e+02,  5.96210516e+01,\n",
       "        -2.75344055e+01, -1.10459303e+00, -1.70882588e+01,\n",
       "         2.91848324e-01, -1.15723723e-04, -1.22589134e+01,\n",
       "         2.53242571e+00,  4.65109710e-01, -2.85405815e-01,\n",
       "         3.36601199e-01,  7.73940138e-02, -5.95322280e-02,\n",
       "         2.47803236e-03,  5.92662694e-02, -1.34622698e-02,\n",
       "         4.77643692e-02,  1.11617257e-02],\n",
       "       [-6.82418373e+01,  2.39333749e+01,  1.73441421e+01,\n",
       "        -2.72535218e+01, -8.51229077e+00,  3.89008372e+01,\n",
       "         2.33206514e+01, -4.32603648e+00, -3.02634788e+00,\n",
       "        -1.09107401e+01,  2.53416055e+01, -1.94083601e+00,\n",
       "         3.02115751e+00,  6.79830885e-01,  5.66220508e+00,\n",
       "         8.69930554e-01, -2.16471946e-01, -1.24159218e+01,\n",
       "         9.02059000e+00, -1.36624320e+00],\n",
       "       [ 8.34245895e+01, -1.19837104e+01, -2.85836029e+01,\n",
       "         2.83771560e+01, -8.42668260e+00,  4.12129417e+01,\n",
       "        -1.38484132e+01,  1.86851108e+00, -6.62827261e+00,\n",
       "         3.88745427e+01,  7.17274951e+00,  3.10515283e+00,\n",
       "        -5.29538098e-01, -7.45469581e-01, -1.01004660e+00,\n",
       "         6.87377250e-03,  1.20274825e+00, -8.21668430e-01,\n",
       "        -4.64078332e-01,  5.62355344e-01],\n",
       "       [ 1.71242517e+00, -2.76765078e+01,  7.01171021e+00,\n",
       "        -1.08633909e+01,  2.59037268e+01, -4.39401999e+00,\n",
       "         1.56991101e+00,  1.92047002e+01,  1.12815586e-01,\n",
       "         1.66243419e-01,  7.16884140e+00, -1.49519351e+01,\n",
       "        -6.38460080e+00,  1.91891075e+01, -1.23765309e+01,\n",
       "         8.36105506e+00,  2.27630925e+00, -8.20588281e+00,\n",
       "        -1.15539063e+01, -4.13487877e+00],\n",
       "       [-3.10937100e+01, -1.07733577e+01,  1.62844247e+01,\n",
       "        -2.29883748e+01,  1.38874306e+01,  1.06636616e+01,\n",
       "        -1.34789040e+01, -1.62787503e+01,  1.35260312e+00,\n",
       "         2.31325422e+00, -1.53118391e+01, -3.97474798e+00,\n",
       "         2.06538193e+01, -7.00529695e-01,  7.46591001e+00,\n",
       "         1.40563032e+01, -8.55867161e+00, -2.53430839e+00,\n",
       "        -4.39888130e+00,  8.40190071e+00],\n",
       "       [ 1.25081985e+02,  1.10566795e+01, -5.14788981e+01,\n",
       "        -1.80468854e+00,  5.86488775e+00,  1.42596743e+01,\n",
       "         2.80128207e+00, -3.32024144e+00,  4.74562899e+01,\n",
       "        -1.70034079e+01, -2.33874729e+00,  4.95186492e-01,\n",
       "        -7.32643075e-01, -1.42179692e-01,  3.84587403e-01,\n",
       "        -1.21885659e-01, -4.27736534e-01,  8.29195384e-02,\n",
       "         4.52858921e-02,  5.99628868e-02],\n",
       "       [-3.76716462e+01, -4.88986165e+00,  1.70049638e+01,\n",
       "        -2.52184078e+01,  1.20493884e+01,  1.67449333e+01,\n",
       "        -8.91384209e+00, -2.07963679e+01, -1.69933802e+00,\n",
       "        -1.06446086e+00, -1.29296016e+01,  5.45911971e-01,\n",
       "        -8.60933353e+00,  4.93216262e+00, -1.41406788e+01,\n",
       "        -1.44706081e+01, -3.07792873e+00,  3.06209114e+00,\n",
       "         1.19135046e+01, -1.74024507e+00],\n",
       "       [-5.84870547e+01,  2.89641923e+01, -1.76643693e+01,\n",
       "        -1.12529300e+01, -3.75142177e+01, -3.05546571e+00,\n",
       "         1.39178784e+01,  2.26510409e+01,  3.40337755e+00,\n",
       "         4.33934258e+00, -1.59418234e+01,  3.44439526e+00,\n",
       "        -3.60633452e+00, -1.23138445e+01, -1.19131280e+01,\n",
       "         1.69080040e+01,  2.73177592e+00, -5.39520847e-01,\n",
       "         7.34277238e+00, -3.97061295e+00],\n",
       "       [-3.90449974e+01, -1.94454734e+01,  4.06031788e+01,\n",
       "        -7.60077589e-01, -1.68710135e+00, -1.49030012e+01,\n",
       "        -3.17327778e+01,  2.36540056e+01,  1.69343438e+01,\n",
       "         2.19874519e+00,  9.59894862e+00,  1.48643681e+01,\n",
       "         4.25639419e-01, -8.99665373e+00,  9.57822951e-01,\n",
       "        -7.75844594e+00, -1.12120728e+01, -8.39281079e+00,\n",
       "        -3.62369753e+00, -6.52356707e+00],\n",
       "       [-4.46953393e+01,  1.63424171e+01, -1.89592558e+01,\n",
       "        -1.67541218e+01, -3.06060554e+01, -1.89065004e+00,\n",
       "         6.66554364e+00, -2.53611403e+00, -9.98402565e-01,\n",
       "        -3.78733558e+00,  2.02236421e+01,  1.91244090e+00,\n",
       "         1.37039694e+01, -1.93183667e+00, -9.39236360e+00,\n",
       "        -6.42132196e+00,  3.08670341e+00,  1.66628005e+01,\n",
       "        -1.26589921e+01,  1.36239689e+00],\n",
       "       [ 4.90108498e+01, -2.05710188e+01,  2.71695073e+00,\n",
       "         5.10567582e+01, -3.32732449e+01,  1.97866581e+01,\n",
       "        -2.89855793e+01,  1.12818619e+01, -2.48046170e+01,\n",
       "        -3.04838765e+01, -6.09253640e+00, -2.04029442e+00,\n",
       "         1.59957481e-01,  3.60525641e+00,  1.46420141e+00,\n",
       "         1.39368205e+00, -1.48672958e-01,  1.91244160e+00,\n",
       "         7.94806881e-01, -8.14622127e-01],\n",
       "       [-2.39348675e+01, -2.33151557e+01,  7.16754089e+01,\n",
       "         5.60402629e+01, -2.28624629e+01, -8.26890414e+00,\n",
       "         9.06520592e+00, -1.77797549e+01,  2.05728632e+01,\n",
       "         6.71046129e+00,  2.77226712e+00, -1.90952563e+01,\n",
       "        -6.19010233e+00, -6.43668158e+00,  2.70011081e+00,\n",
       "         1.14720522e+00,  3.75507130e+00,  4.28958434e+00,\n",
       "         2.85878261e-01,  2.15651854e-01],\n",
       "       [ 4.37253204e+00, -1.25038185e+01, -4.48775001e+01,\n",
       "        -2.37577305e+01, -6.24564231e+00, -1.96278381e+01,\n",
       "        -5.34611998e+00, -1.73504479e+01, -1.08580083e+01,\n",
       "        -5.04939913e-01,  5.52128669e+00, -6.67348765e-01,\n",
       "        -1.29048172e+01, -1.54526291e+00,  4.73211570e+00,\n",
       "         2.99087994e+00,  1.03810497e+00, -1.17149782e+00,\n",
       "        -5.25704890e-01,  9.82985087e-01],\n",
       "       [-2.26497498e+01, -4.42061574e+00, -2.13077565e+01,\n",
       "        -1.90528103e+01, -1.63925643e+01, -1.60892640e+01,\n",
       "        -1.50270128e+01, -2.15406136e+01, -3.80513844e+00,\n",
       "        -1.34240388e-01,  8.13759872e+00,  4.82269838e+00,\n",
       "        -1.68768727e+01, -1.19401032e-01,  7.57421503e+00,\n",
       "         7.26890190e+00, -5.25526441e+00,  1.93130058e-01,\n",
       "        -3.76001750e+00,  2.74769888e+00],\n",
       "       [-1.00640676e+02,  9.90804344e+01, -3.43039264e+01,\n",
       "         6.91446894e+01,  4.95052436e+01, -5.77229482e+00,\n",
       "        -7.94224104e+00, -3.43253794e+00, -1.87594990e+00,\n",
       "        -1.54433400e+00,  2.30643891e+00,  8.19477419e-01,\n",
       "         9.73309071e-02, -1.20169642e+00, -4.69229157e-01,\n",
       "         4.96858996e-01,  3.73331039e-01, -5.33100016e-02,\n",
       "        -4.44957768e-02, -1.09637690e-01],\n",
       "       [-5.98582871e+01,  3.35296541e+01, -2.09905134e+01,\n",
       "        -6.49870413e+00, -3.44281228e+01, -2.98927714e+00,\n",
       "         1.50019647e+01,  1.78617420e+01,  3.65445803e+00,\n",
       "         8.62703012e+00, -1.92610309e+01, -6.48793009e+00,\n",
       "        -1.29980587e+00,  1.42601247e+01,  1.32969506e+01,\n",
       "        -1.41961900e+01, -4.49624483e+00, -1.97597168e+00,\n",
       "        -4.09109705e+00,  3.38837763e+00],\n",
       "       [ 2.26336362e+01, -3.39898961e+01, -3.51023060e+00,\n",
       "         2.72466344e+01, -1.12582114e+01, -3.24832193e+01,\n",
       "         8.80136886e+00, -5.48392331e+00,  3.03295027e-01,\n",
       "         1.13934917e+00,  2.63583912e+00,  1.41223561e+01,\n",
       "         1.00676536e+01,  7.90477568e+00, -3.17491574e+00,\n",
       "        -2.82632553e+00,  1.35356565e+01, -1.19006789e+01,\n",
       "         7.29537185e+00,  1.14788048e+01],\n",
       "       [ 1.47467095e+01, -2.95592145e+01, -2.09394169e+01,\n",
       "        -9.31439817e+00,  1.08127467e+01, -2.54449237e+01,\n",
       "        -1.03074339e+01,  9.25502451e+00, -8.36838496e-01,\n",
       "         5.48591509e+00,  8.82445468e+00, -1.16329486e+01,\n",
       "         1.03424113e+01,  6.04113992e+00, -1.42529641e+00,\n",
       "         1.40828194e+00, -9.85539002e+00,  1.00526723e+01,\n",
       "         1.72789813e+01, -1.59253462e+00],\n",
       "       [-3.65099937e+01, -7.59375383e+00,  1.57364611e+01,\n",
       "        -2.21873002e+01,  5.22226106e+00,  7.29792273e+00,\n",
       "        -1.62317414e+01, -1.77884353e+01,  1.99295535e+00,\n",
       "        -1.92293837e-01, -1.43257520e+01,  4.75053805e+00,\n",
       "         3.18271944e+00, -1.59607697e-01, -8.20265912e+00,\n",
       "        -2.41461393e+00,  9.16452146e+00, -1.81263929e+00,\n",
       "        -7.21177553e+00, -1.79640491e+00]])"
      ]
     },
     "execution_count": 30,
     "metadata": {},
     "output_type": "execute_result"
    }
   ],
   "source": [
    "wdbc_data"
   ]
  },
  {
   "cell_type": "code",
   "execution_count": 53,
   "metadata": {},
   "outputs": [
    {
     "ename": "IndexError",
     "evalue": "index 23812 is out of bounds for axis 1 with size 23809",
     "output_type": "error",
     "traceback": [
      "\u001b[1;31m---------------------------------------------------------------------------\u001b[0m",
      "\u001b[1;31mIndexError\u001b[0m                                Traceback (most recent call last)",
      "\u001b[1;32m<ipython-input-53-88e9123cfa47>\u001b[0m in \u001b[0;36m<module>\u001b[1;34m\u001b[0m\n\u001b[1;32m----> 1\u001b[1;33m \u001b[0mdf_wdbc_std\u001b[0m\u001b[1;33m[\u001b[0m\u001b[1;33m:\u001b[0m\u001b[1;33m,\u001b[0m\u001b[1;36m23812\u001b[0m\u001b[1;33m]\u001b[0m\u001b[1;33m\u001b[0m\u001b[1;33m\u001b[0m\u001b[0m\n\u001b[0m",
      "\u001b[1;31mIndexError\u001b[0m: index 23812 is out of bounds for axis 1 with size 23809"
     ]
    }
   ],
   "source": [
    "df_wdbc_std[:,23812]"
   ]
  },
  {
   "cell_type": "code",
   "execution_count": 47,
   "metadata": {},
   "outputs": [
    {
     "data": {
      "text/plain": [
       "(23, 23809)"
      ]
     },
     "execution_count": 47,
     "metadata": {},
     "output_type": "execute_result"
    }
   ],
   "source": [
    "df_wdbc_std.shape"
   ]
  },
  {
   "cell_type": "markdown",
   "metadata": {},
   "source": [
    "<br>\n",
    "<font color='red'>ADD YOUR ANALYSIS</font> \n",
    "<br>\n",
    "<br>\n",
    "From comparing the two graphs, k-means splits the data almost perfectly into two distinct groups. This is because k-means groups the points based on the distance from the center. Comparing this to the GMM's graph, it is clear to see that there is some overlapping of the two colours. This is due to the fact that GMM is an algorithm for density estimation.\n",
    "<br>\n",
    "\n",
    "Both methods, in this case, use two components to label the data as the original data had labels of either Begin or Malignant (B/M). The data being used (wdbc_data) is based on 17 components which gave a variance of 99.1%.\n",
    "<Br>\n",
    "In terms of which method is better for our data, in my opinion, I would choose GMM. The data is relating to weather a tumour is Benign or Malignant and GMM gives the probability of the tumour belonging to either group. K-means classifies the groups by distance from the randomly chosen center point which may lead to an increased number of misclassifications. \n",
    "<br>\n",
    "<br>"
   ]
  }
 ],
 "metadata": {
  "kernelspec": {
   "display_name": "Python 3",
   "language": "python",
   "name": "python3"
  },
  "language_info": {
   "codemirror_mode": {
    "name": "ipython",
    "version": 3
   },
   "file_extension": ".py",
   "mimetype": "text/x-python",
   "name": "python",
   "nbconvert_exporter": "python",
   "pygments_lexer": "ipython3",
   "version": "3.7.3"
  },
  "widgets": {
   "state": {
    "cb6b8a9c1a2b43088126905b03d3e888": {
     "views": [
      {
       "cell_index": 13
      }
     ]
    }
   },
   "version": "1.2.0"
  }
 },
 "nbformat": 4,
 "nbformat_minor": 4
}
